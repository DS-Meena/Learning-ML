{
 "cells": [
  {
   "cell_type": "markdown",
   "id": "7a44d581",
   "metadata": {},
   "source": [
    "# Diffusion Models\n",
    "\n",
    "## Basic Concept\n",
    "- Diffusion models work by gradually adding noise to data and then learning to reverse this process.\n",
    "- They consist of two main processes:\n",
    "    - Forward diffusion (adding noise gradually)\n",
    "    - Reverse diffusion (removing noise gradually)"
   ]
  },
  {
   "cell_type": "code",
   "execution_count": null,
   "id": "fd81f49d",
   "metadata": {},
   "outputs": [
    {
     "name": "stdout",
     "output_type": "stream",
     "text": [
      "\n",
      "\n",
      "Failed to import TF-Keras. Please note that TF-Keras is not installed by default when you install TensorFlow Probability. This is so that JAX-only users do not have to install TensorFlow or TF-Keras. To use TensorFlow Probability with TensorFlow, please install the tf-keras or tf-keras-nightly package.\n",
      "This can be be done through installing the tensorflow-probability[tf] extra.\n",
      "\n",
      "\n"
     ]
    },
    {
     "ename": "ModuleNotFoundError",
     "evalue": "No module named 'tf_keras'",
     "output_type": "error",
     "traceback": [
      "\u001b[0;31m---------------------------------------------------------------------------\u001b[0m",
      "\u001b[0;31mModuleNotFoundError\u001b[0m                       Traceback (most recent call last)",
      "Cell \u001b[0;32mIn[3], line 2\u001b[0m\n\u001b[1;32m      1\u001b[0m \u001b[38;5;28;01mimport\u001b[39;00m \u001b[38;5;21;01mtensorflow\u001b[39;00m \u001b[38;5;28;01mas\u001b[39;00m \u001b[38;5;21;01mtf\u001b[39;00m\n\u001b[0;32m----> 2\u001b[0m \u001b[38;5;28;01mimport\u001b[39;00m \u001b[38;5;21;01mtensorflow_probability\u001b[39;00m \u001b[38;5;28;01mas\u001b[39;00m \u001b[38;5;21;01mtfp\u001b[39;00m\n\u001b[1;32m      4\u001b[0m \u001b[38;5;28;01mclass\u001b[39;00m \u001b[38;5;21;01mDiffusionModel\u001b[39;00m(tf\u001b[38;5;241m.\u001b[39mkeras\u001b[38;5;241m.\u001b[39mModel):\n\u001b[1;32m      5\u001b[0m     \u001b[38;5;28;01mdef\u001b[39;00m \u001b[38;5;21m__init__\u001b[39m(\u001b[38;5;28mself\u001b[39m, time_steps\u001b[38;5;241m=\u001b[39m\u001b[38;5;241m1000\u001b[39m, beta_start\u001b[38;5;241m=\u001b[39m\u001b[38;5;241m1e-4\u001b[39m, beta_end\u001b[38;5;241m=\u001b[39m\u001b[38;5;241m0.02\u001b[39m):\n",
      "File \u001b[0;32m~/training/Learning-ML/.venv/lib/python3.12/site-packages/tensorflow_probability/__init__.py:22\u001b[0m\n\u001b[1;32m     15\u001b[0m \u001b[38;5;124;03m\"\"\"Tools for probabilistic reasoning in TensorFlow.\"\"\"\u001b[39;00m\n\u001b[1;32m     17\u001b[0m \u001b[38;5;66;03m# Contributors to the `python/` dir should not alter this file; instead update\u001b[39;00m\n\u001b[1;32m     18\u001b[0m \u001b[38;5;66;03m# `python/__init__.py` as necessary.\u001b[39;00m\n\u001b[1;32m     19\u001b[0m \n\u001b[1;32m     20\u001b[0m \u001b[38;5;66;03m# from tensorflow_probability.google import staging  # DisableOnExport\u001b[39;00m\n\u001b[1;32m     21\u001b[0m \u001b[38;5;66;03m# from tensorflow_probability.google import tfp_google  # DisableOnExport\u001b[39;00m\n\u001b[0;32m---> 22\u001b[0m \u001b[38;5;28;01mfrom\u001b[39;00m \u001b[38;5;21;01mtensorflow_probability\u001b[39;00m\u001b[38;5;21;01m.\u001b[39;00m\u001b[38;5;21;01mpython\u001b[39;00m \u001b[38;5;28;01mimport\u001b[39;00m \u001b[38;5;241m*\u001b[39m  \u001b[38;5;66;03m# pylint: disable=wildcard-import\u001b[39;00m\n\u001b[1;32m     23\u001b[0m \u001b[38;5;28;01mfrom\u001b[39;00m \u001b[38;5;21;01mtensorflow_probability\u001b[39;00m\u001b[38;5;21;01m.\u001b[39;00m\u001b[38;5;21;01mpython\u001b[39;00m\u001b[38;5;21;01m.\u001b[39;00m\u001b[38;5;21;01mversion\u001b[39;00m \u001b[38;5;28;01mimport\u001b[39;00m __version__\n\u001b[1;32m     25\u001b[0m \u001b[38;5;66;03m# tfp_google.bind(globals())  # DisableOnExport\u001b[39;00m\n\u001b[1;32m     26\u001b[0m \u001b[38;5;66;03m# del tfp_google  # DisableOnExport\u001b[39;00m\n",
      "File \u001b[0;32m~/training/Learning-ML/.venv/lib/python3.12/site-packages/tensorflow_probability/python/__init__.py:152\u001b[0m\n\u001b[1;32m    149\u001b[0m \u001b[38;5;28;01mif\u001b[39;00m _tf_loaded():\n\u001b[1;32m    150\u001b[0m   \u001b[38;5;66;03m# Non-lazy load of packages that register with tensorflow or keras.\u001b[39;00m\n\u001b[1;32m    151\u001b[0m   \u001b[38;5;28;01mfor\u001b[39;00m pkg_name \u001b[38;5;129;01min\u001b[39;00m _maybe_nonlazy_load:\n\u001b[0;32m--> 152\u001b[0m     \u001b[38;5;28;43mdir\u001b[39;49m\u001b[43m(\u001b[49m\u001b[38;5;28;43mglobals\u001b[39;49m\u001b[43m(\u001b[49m\u001b[43m)\u001b[49m\u001b[43m[\u001b[49m\u001b[43mpkg_name\u001b[49m\u001b[43m]\u001b[49m\u001b[43m)\u001b[49m  \u001b[38;5;66;03m# Forces loading the package from its lazy loader.\u001b[39;00m\n\u001b[1;32m    155\u001b[0m all_util\u001b[38;5;241m.\u001b[39mremove_undocumented(\u001b[38;5;18m__name__\u001b[39m, _lazy_load \u001b[38;5;241m+\u001b[39m _maybe_nonlazy_load)\n",
      "File \u001b[0;32m~/training/Learning-ML/.venv/lib/python3.12/site-packages/tensorflow_probability/python/internal/lazy_loader.py:60\u001b[0m, in \u001b[0;36mLazyLoader.__dir__\u001b[0;34m(self)\u001b[0m\n\u001b[1;32m     59\u001b[0m \u001b[38;5;28;01mdef\u001b[39;00m \u001b[38;5;21m__dir__\u001b[39m(\u001b[38;5;28mself\u001b[39m):\n\u001b[0;32m---> 60\u001b[0m   module \u001b[38;5;241m=\u001b[39m \u001b[38;5;28;43mself\u001b[39;49m\u001b[38;5;241;43m.\u001b[39;49m\u001b[43m_load\u001b[49m\u001b[43m(\u001b[49m\u001b[43m)\u001b[49m\n\u001b[1;32m     61\u001b[0m   \u001b[38;5;28;01mreturn\u001b[39;00m \u001b[38;5;28mdir\u001b[39m(module)\n",
      "File \u001b[0;32m~/training/Learning-ML/.venv/lib/python3.12/site-packages/tensorflow_probability/python/internal/lazy_loader.py:40\u001b[0m, in \u001b[0;36mLazyLoader._load\u001b[0;34m(self)\u001b[0m\n\u001b[1;32m     38\u001b[0m \u001b[38;5;250m\u001b[39m\u001b[38;5;124;03m\"\"\"Load the module and insert it into the parent's globals.\"\"\"\u001b[39;00m\n\u001b[1;32m     39\u001b[0m \u001b[38;5;28;01mif\u001b[39;00m \u001b[38;5;28mcallable\u001b[39m(\u001b[38;5;28mself\u001b[39m\u001b[38;5;241m.\u001b[39m_on_first_access):\n\u001b[0;32m---> 40\u001b[0m   \u001b[38;5;28;43mself\u001b[39;49m\u001b[38;5;241;43m.\u001b[39;49m\u001b[43m_on_first_access\u001b[49m\u001b[43m(\u001b[49m\u001b[43m)\u001b[49m\n\u001b[1;32m     41\u001b[0m   \u001b[38;5;28mself\u001b[39m\u001b[38;5;241m.\u001b[39m_on_first_access \u001b[38;5;241m=\u001b[39m \u001b[38;5;28;01mNone\u001b[39;00m\n\u001b[1;32m     42\u001b[0m \u001b[38;5;66;03m# Import the target module and insert it into the parent's namespace\u001b[39;00m\n",
      "File \u001b[0;32m~/training/Learning-ML/.venv/lib/python3.12/site-packages/tensorflow_probability/python/__init__.py:79\u001b[0m, in \u001b[0;36m_validate_tf_environment\u001b[0;34m(package)\u001b[0m\n\u001b[1;32m     77\u001b[0m \u001b[38;5;28;01mif\u001b[39;00m required_tensorflow_version[\u001b[38;5;241m0\u001b[39m] \u001b[38;5;241m==\u001b[39m \u001b[38;5;124m'\u001b[39m\u001b[38;5;124m2\u001b[39m\u001b[38;5;124m'\u001b[39m:\n\u001b[1;32m     78\u001b[0m   \u001b[38;5;28;01mtry\u001b[39;00m:\n\u001b[0;32m---> 79\u001b[0m     \u001b[38;5;28;01mimport\u001b[39;00m \u001b[38;5;21;01mtf_keras\u001b[39;00m  \u001b[38;5;66;03m# pylint: disable=unused-import\u001b[39;00m\n\u001b[1;32m     80\u001b[0m   \u001b[38;5;28;01mexcept\u001b[39;00m (\u001b[38;5;167;01mImportError\u001b[39;00m, \u001b[38;5;167;01mModuleNotFoundError\u001b[39;00m):\n\u001b[1;32m     81\u001b[0m     \u001b[38;5;66;03m# Print more informative error message, then reraise.\u001b[39;00m\n\u001b[1;32m     82\u001b[0m     \u001b[38;5;28mprint\u001b[39m(\u001b[38;5;124m'\u001b[39m\u001b[38;5;130;01m\\n\u001b[39;00m\u001b[38;5;130;01m\\n\u001b[39;00m\u001b[38;5;124mFailed to import TF-Keras. Please note that TF-Keras is not \u001b[39m\u001b[38;5;124m'\u001b[39m\n\u001b[1;32m     83\u001b[0m           \u001b[38;5;124m'\u001b[39m\u001b[38;5;124minstalled by default when you install TensorFlow Probability. \u001b[39m\u001b[38;5;124m'\u001b[39m\n\u001b[1;32m     84\u001b[0m           \u001b[38;5;124m'\u001b[39m\u001b[38;5;124mThis is so that JAX-only users do not have to install TensorFlow \u001b[39m\u001b[38;5;124m'\u001b[39m\n\u001b[0;32m   (...)\u001b[0m\n\u001b[1;32m     87\u001b[0m           \u001b[38;5;124m'\u001b[39m\u001b[38;5;124mThis can be be done through installing the \u001b[39m\u001b[38;5;124m'\u001b[39m\n\u001b[1;32m     88\u001b[0m           \u001b[38;5;124m'\u001b[39m\u001b[38;5;124mtensorflow-probability[tf] extra.\u001b[39m\u001b[38;5;130;01m\\n\u001b[39;00m\u001b[38;5;130;01m\\n\u001b[39;00m\u001b[38;5;124m'\u001b[39m)\n",
      "\u001b[0;31mModuleNotFoundError\u001b[0m: No module named 'tf_keras'"
     ]
    }
   ],
   "source": [
    "import tensorflow as tf\n",
    "import tensorflow_probability as tfp\n",
    "\n",
    "class DiffusionModel(tf.keras.Model):\n",
    "    def __init__(self, time_steps=1000, beta_start=1e-4, beta_end=0.02):\n",
    "        super().__init__()\n",
    "\n",
    "        #Define noise schedule\n",
    "        self.time_steps = time_steps\n",
    "        self.beta = tf.linspace(beta_start, beta_end, time_steps)\n",
    "        self.alpha = 1 - self.beta\n",
    "        self.alpha_bar = tf.math.cumprod(self.alpha)\n",
    "\n",
    "        # Define the U-Net architecture for noise prediction\n",
    "        self.model = self.build_unet()\n",
    "\n",
    "    def build_unet(self):\n",
    "        # Simple U-Net architecture\n",
    "        inputs = tf.keras.Input(shape=(28, 28, 1))\n",
    "        x = tf.keras.layers.Conv2D(32, 3, padding='same', activation='relu')(inputs)\n",
    "        x = tf.keras.layers.Conv2D(64, 3, padding='same', activation='relu')(x)\n",
    "        x = tf.keras.layers.Conv2D(1, 3, padding='same')(x)\n",
    "        return tf.keras.Model(inputs=inputs, outputs=x)\n",
    "    \n",
    "    def forward_diffusion(self, x_0, t):\n",
    "        # Add noise according to the noise schedule\n",
    "        alpha_t = tf.gather(self.alpha_bar, t)\n",
    "        alpha_t = tf.reshape(alpha_t, (-1, 1, 1, 1))\n",
    "        \n",
    "        noise = tf.random.normal(shape=x_0.shape)\n",
    "        return tf.sqrt(alpha_t) * x_0 + tf.sqrt(1 - alpha_t) * noise, noise\n",
    "    \n",
    "    def train_step(self, x_0):\n",
    "        # Sample random timesteps\n",
    "        t = tf.random.uniform(\n",
    "            shape=(tf.shape(x_0)[0],),\n",
    "            minval=0,\n",
    "            maxval=self.time_steps,\n",
    "            dtype=tf.int32\n",
    "        )\n",
    "        \n",
    "        with tf.GradientTape() as tape:\n",
    "            # Forward diffusion\n",
    "            x_noisy, noise = self.forward_diffusion(x_0, t)\n",
    "            \n",
    "            # Predict noise\n",
    "            predicted_noise = self.model(x_noisy, training=True)\n",
    "            \n",
    "            # Calculate loss\n",
    "            loss = tf.reduce_mean(tf.square(noise - predicted_noise))\n",
    "        \n",
    "        # Update model parameters\n",
    "        gradients = tape.gradient(loss, self.model.trainable_variables)\n",
    "        self.optimizer.apply_gradients(zip(gradients, self.model.trainable_variables))\n",
    "        \n",
    "        return {'loss': loss}\n",
    "\n",
    "    def sample(self, n_samples):\n",
    "        # Start from random noise\n",
    "        x = tf.random.normal(shape=(n_samples, 28, 28, 1))\n",
    "        \n",
    "        # Gradually denoise\n",
    "        for t in range(self.time_steps - 1, -1, -1):\n",
    "            t_tensor = tf.constant([t], dtype=tf.int32)\n",
    "            t_tensor = tf.repeat(t_tensor, n_samples)\n",
    "            \n",
    "            # Predict noise\n",
    "            predicted_noise = self.model(x)\n",
    "            \n",
    "            alpha_t = tf.gather(self.alpha, t)\n",
    "            alpha_bar_t = tf.gather(self.alpha_bar, t)\n",
    "            \n",
    "            # Update sample\n",
    "            if t > 0:\n",
    "                noise = tf.random.normal(shape=x.shape)\n",
    "            else:\n",
    "                noise = 0\n",
    "                \n",
    "            x = (1 / tf.sqrt(alpha_t)) * (\n",
    "                x - (1 - alpha_t) / tf.sqrt(1 - alpha_bar_t) * predicted_noise\n",
    "            ) + tf.sqrt(self.beta[t]) * noise\n",
    "            \n",
    "        return x\n",
    "\n"
   ]
  },
  {
   "cell_type": "markdown",
   "id": "7b1d0867",
   "metadata": {},
   "source": []
  }
 ],
 "metadata": {
  "kernelspec": {
   "display_name": ".venv",
   "language": "python",
   "name": "python3"
  },
  "language_info": {
   "codemirror_mode": {
    "name": "ipython",
    "version": 3
   },
   "file_extension": ".py",
   "mimetype": "text/x-python",
   "name": "python",
   "nbconvert_exporter": "python",
   "pygments_lexer": "ipython3",
   "version": "3.12.3"
  }
 },
 "nbformat": 4,
 "nbformat_minor": 5
}
