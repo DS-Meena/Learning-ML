{
 "cells": [
  {
   "cell_type": "markdown",
   "id": "adc68be3",
   "metadata": {
    "papermill": {
     "duration": 0.00666,
     "end_time": "2024-08-25T12:32:13.591852",
     "exception": false,
     "start_time": "2024-08-25T12:32:13.585192",
     "status": "completed"
    },
    "tags": []
   },
   "source": [
    "## Read the data"
   ]
  },
  {
   "cell_type": "code",
   "execution_count": 1,
   "id": "c967a37e",
   "metadata": {
    "execution": {
     "iopub.execute_input": "2024-08-25T12:32:13.605609Z",
     "iopub.status.busy": "2024-08-25T12:32:13.605204Z",
     "iopub.status.idle": "2024-08-25T12:32:27.033805Z",
     "shell.execute_reply": "2024-08-25T12:32:27.032805Z"
    },
    "papermill": {
     "duration": 13.438022,
     "end_time": "2024-08-25T12:32:27.035982",
     "exception": false,
     "start_time": "2024-08-25T12:32:13.597960",
     "status": "completed"
    },
    "tags": []
   },
   "outputs": [
    {
     "data": {
      "text/html": [
       "<div>\n",
       "<style scoped>\n",
       "    .dataframe tbody tr th:only-of-type {\n",
       "        vertical-align: middle;\n",
       "    }\n",
       "\n",
       "    .dataframe tbody tr th {\n",
       "        vertical-align: top;\n",
       "    }\n",
       "\n",
       "    .dataframe thead th {\n",
       "        text-align: right;\n",
       "    }\n",
       "</style>\n",
       "<table border=\"1\" class=\"dataframe\">\n",
       "  <thead>\n",
       "    <tr style=\"text-align: right;\">\n",
       "      <th></th>\n",
       "      <th>author</th>\n",
       "      <th>content</th>\n",
       "      <th>poem name</th>\n",
       "      <th>age</th>\n",
       "      <th>type</th>\n",
       "    </tr>\n",
       "  </thead>\n",
       "  <tbody>\n",
       "    <tr>\n",
       "      <th>0</th>\n",
       "      <td>WILLIAM SHAKESPEARE</td>\n",
       "      <td>Let the bird of loudest lay\\r\\nOn the sole Ara...</td>\n",
       "      <td>The Phoenix and the Turtle</td>\n",
       "      <td>Renaissance</td>\n",
       "      <td>Mythology &amp; Folklore</td>\n",
       "    </tr>\n",
       "    <tr>\n",
       "      <th>1</th>\n",
       "      <td>DUCHESS OF NEWCASTLE MARGARET CAVENDISH</td>\n",
       "      <td>Sir Charles into my chamber coming in,\\r\\nWhen...</td>\n",
       "      <td>An Epilogue to the Above</td>\n",
       "      <td>Renaissance</td>\n",
       "      <td>Mythology &amp; Folklore</td>\n",
       "    </tr>\n",
       "    <tr>\n",
       "      <th>2</th>\n",
       "      <td>THOMAS BASTARD</td>\n",
       "      <td>Our vice runs beyond all that old men saw,\\r\\n...</td>\n",
       "      <td>Book 7, Epigram 42</td>\n",
       "      <td>Renaissance</td>\n",
       "      <td>Mythology &amp; Folklore</td>\n",
       "    </tr>\n",
       "    <tr>\n",
       "      <th>3</th>\n",
       "      <td>EDMUND SPENSER</td>\n",
       "      <td>Lo I the man, whose Muse whilome did maske,\\r\\...</td>\n",
       "      <td>from The Faerie Queene: Book I, Canto I</td>\n",
       "      <td>Renaissance</td>\n",
       "      <td>Mythology &amp; Folklore</td>\n",
       "    </tr>\n",
       "    <tr>\n",
       "      <th>4</th>\n",
       "      <td>RICHARD BARNFIELD</td>\n",
       "      <td>Long have I longd to see my love againe,\\r\\nSt...</td>\n",
       "      <td>Sonnet 16</td>\n",
       "      <td>Renaissance</td>\n",
       "      <td>Mythology &amp; Folklore</td>\n",
       "    </tr>\n",
       "  </tbody>\n",
       "</table>\n",
       "</div>"
      ],
      "text/plain": [
       "                                    author  \\\n",
       "0                      WILLIAM SHAKESPEARE   \n",
       "1  DUCHESS OF NEWCASTLE MARGARET CAVENDISH   \n",
       "2                           THOMAS BASTARD   \n",
       "3                           EDMUND SPENSER   \n",
       "4                        RICHARD BARNFIELD   \n",
       "\n",
       "                                             content  \\\n",
       "0  Let the bird of loudest lay\\r\\nOn the sole Ara...   \n",
       "1  Sir Charles into my chamber coming in,\\r\\nWhen...   \n",
       "2  Our vice runs beyond all that old men saw,\\r\\n...   \n",
       "3  Lo I the man, whose Muse whilome did maske,\\r\\...   \n",
       "4  Long have I longd to see my love againe,\\r\\nSt...   \n",
       "\n",
       "                                 poem name          age                  type  \n",
       "0               The Phoenix and the Turtle  Renaissance  Mythology & Folklore  \n",
       "1                 An Epilogue to the Above  Renaissance  Mythology & Folklore  \n",
       "2                       Book 7, Epigram 42  Renaissance  Mythology & Folklore  \n",
       "3  from The Faerie Queene: Book I, Canto I  Renaissance  Mythology & Folklore  \n",
       "4                                Sonnet 16  Renaissance  Mythology & Folklore  "
      ]
     },
     "execution_count": 1,
     "metadata": {},
     "output_type": "execute_result"
    }
   ],
   "source": [
    "import pandas as pd\n",
    "import numpy as np\n",
    "import tensorflow as tf\n",
    "from tensorflow.keras.preprocessing.text import Tokenizer\n",
    "from tensorflow.keras.preprocessing.sequence import pad_sequences\n",
    "\n",
    "from tensorflow.keras.models import Sequential\n",
    "from tensorflow.keras.layers import Embedding, LSTM, Dense\n",
    "from tensorflow.keras.optimizers import Adam\n",
    "\n",
    "my_data = pd.read_csv(\"/kaggle/input/modern-renaissance-poetry/all.csv\")\n",
    "my_data.head()"
   ]
  },
  {
   "cell_type": "code",
   "execution_count": 2,
   "id": "380f34b2",
   "metadata": {
    "execution": {
     "iopub.execute_input": "2024-08-25T12:32:27.050604Z",
     "iopub.status.busy": "2024-08-25T12:32:27.049795Z",
     "iopub.status.idle": "2024-08-25T12:32:27.055741Z",
     "shell.execute_reply": "2024-08-25T12:32:27.054870Z"
    },
    "papermill": {
     "duration": 0.015431,
     "end_time": "2024-08-25T12:32:27.057901",
     "exception": false,
     "start_time": "2024-08-25T12:32:27.042470",
     "status": "completed"
    },
    "tags": []
   },
   "outputs": [
    {
     "data": {
      "text/plain": [
       "(573, 5)"
      ]
     },
     "execution_count": 2,
     "metadata": {},
     "output_type": "execute_result"
    }
   ],
   "source": [
    "my_data.shape"
   ]
  },
  {
   "cell_type": "code",
   "execution_count": 3,
   "id": "cd4e26eb",
   "metadata": {
    "execution": {
     "iopub.execute_input": "2024-08-25T12:32:27.071994Z",
     "iopub.status.busy": "2024-08-25T12:32:27.071397Z",
     "iopub.status.idle": "2024-08-25T12:32:27.079321Z",
     "shell.execute_reply": "2024-08-25T12:32:27.078478Z"
    },
    "papermill": {
     "duration": 0.017049,
     "end_time": "2024-08-25T12:32:27.081300",
     "exception": false,
     "start_time": "2024-08-25T12:32:27.064251",
     "status": "completed"
    },
    "tags": []
   },
   "outputs": [
    {
     "data": {
      "text/plain": [
       "array(['Mythology & Folklore', 'Nature', 'Love'], dtype=object)"
      ]
     },
     "execution_count": 3,
     "metadata": {},
     "output_type": "execute_result"
    }
   ],
   "source": [
    "my_data['type'].unique()"
   ]
  },
  {
   "cell_type": "code",
   "execution_count": 4,
   "id": "c244a630",
   "metadata": {
    "execution": {
     "iopub.execute_input": "2024-08-25T12:32:27.095153Z",
     "iopub.status.busy": "2024-08-25T12:32:27.094880Z",
     "iopub.status.idle": "2024-08-25T12:32:27.103856Z",
     "shell.execute_reply": "2024-08-25T12:32:27.103022Z"
    },
    "papermill": {
     "duration": 0.018197,
     "end_time": "2024-08-25T12:32:27.105854",
     "exception": false,
     "start_time": "2024-08-25T12:32:27.087657",
     "status": "completed"
    },
    "tags": []
   },
   "outputs": [
    {
     "data": {
      "text/plain": [
       "('Why didst thou promise such a beauteous day,\\r\\nAnd make me travel forth without my cloak,\\r\\nTo let base clouds oertake me in my way,\\r\\nHiding thy bravery in their rotten smoke?\\r\\nTis not enough that through the cloud thou break,\\r\\nTo dry the rain on my storm-beaten face,\\r\\nFor no man well of such a salve can speak\\r\\nThat heals the wound and cures not the disgrace:\\r\\nNor can thy shame give physic to my grief;\\r\\nThough thou repent, yet I have still the loss:\\r\\nThe offenders sorrow lends but weak relief\\r\\nTo him that bears the strong offences cross.\\r\\n   Ah! but those tears are pearl which thy love sheds,\\r\\n   And they are rich and ransom all ill deeds.\\r\\n \\r\\n \\r\\n ',\n",
       " 326)"
      ]
     },
     "execution_count": 4,
     "metadata": {},
     "output_type": "execute_result"
    }
   ],
   "source": [
    "# extract love poems as a list\n",
    "love_poems = my_data.loc[my_data['type'] == 'Love']['content']\n",
    "love_poems = list(love_poems)\n",
    "\n",
    "love_poems[0], len(love_poems)"
   ]
  },
  {
   "cell_type": "markdown",
   "id": "c145d22f",
   "metadata": {
    "papermill": {
     "duration": 0.006649,
     "end_time": "2024-08-25T12:32:27.119351",
     "exception": false,
     "start_time": "2024-08-25T12:32:27.112702",
     "status": "completed"
    },
    "tags": []
   },
   "source": [
    "I will leave the training data with \\n \\r. So that the model can learn about line breaks and poem structure."
   ]
  },
  {
   "cell_type": "code",
   "execution_count": 5,
   "id": "6b825f44",
   "metadata": {
    "execution": {
     "iopub.execute_input": "2024-08-25T12:32:27.134378Z",
     "iopub.status.busy": "2024-08-25T12:32:27.133783Z",
     "iopub.status.idle": "2024-08-25T12:32:27.139850Z",
     "shell.execute_reply": "2024-08-25T12:32:27.138958Z"
    },
    "papermill": {
     "duration": 0.015813,
     "end_time": "2024-08-25T12:32:27.141808",
     "exception": false,
     "start_time": "2024-08-25T12:32:27.125995",
     "status": "completed"
    },
    "tags": []
   },
   "outputs": [
    {
     "data": {
      "text/plain": [
       "'Joy of my life, full oft for loving you\\r\\n    I bless my lot, that was so lucky placed:\\r\\n    But then the more your own mishap I rue,\\r\\n    That are so much by so mean love embased.\\r\\nFor had the equal heavens so much you graced\\r\\n    In this as in the rest, ye might invent\\r\\n    Some heavenly wit, whose verse could have enchased\\r\\n    Your glorious name in golden monument.\\r\\nBut since ye deignd so goodly to relent\\r\\n    To me your thrall, in whom is little worth,\\r\\n    That little that I am shall all be spent\\r\\n    In setting your immortal praises forth;\\r\\nWhose lofty argument uplifting me\\r\\n    Shall lift you up unto an high degree.'"
      ]
     },
     "execution_count": 5,
     "metadata": {},
     "output_type": "execute_result"
    }
   ],
   "source": [
    "poems = love_poems\n",
    "poems[11]"
   ]
  },
  {
   "cell_type": "markdown",
   "id": "e9ab11b6",
   "metadata": {
    "papermill": {
     "duration": 0.00634,
     "end_time": "2024-08-25T12:32:27.154732",
     "exception": false,
     "start_time": "2024-08-25T12:32:27.148392",
     "status": "completed"
    },
    "tags": []
   },
   "source": [
    "## Preprocessing the Data\n",
    "\n",
    "well suprisingly while removing extra whitespaces, the \\n and \\r also got erased."
   ]
  },
  {
   "cell_type": "code",
   "execution_count": 6,
   "id": "deaa6177",
   "metadata": {
    "execution": {
     "iopub.execute_input": "2024-08-25T12:32:27.169575Z",
     "iopub.status.busy": "2024-08-25T12:32:27.168983Z",
     "iopub.status.idle": "2024-08-25T12:32:27.180878Z",
     "shell.execute_reply": "2024-08-25T12:32:27.179986Z"
    },
    "papermill": {
     "duration": 0.021373,
     "end_time": "2024-08-25T12:32:27.182821",
     "exception": false,
     "start_time": "2024-08-25T12:32:27.161448",
     "status": "completed"
    },
    "tags": []
   },
   "outputs": [
    {
     "data": {
      "text/plain": [
       "'joy of my life, full oft for loving you i bless my lot, that was so lucky placed: but then the more your own mishap i rue, that are so much by so mean love embased. for had the equal heavens so much you graced in this as in the rest, ye might invent some heavenly wit, whose verse could have enchased your glorious name in golden monument. but since ye deignd so goodly to relent to me your thrall, in whom is little worth, that little that i am shall all be spent in setting your immortal praises forth; whose lofty argument uplifting me shall lift you up unto an high degree.'"
      ]
     },
     "execution_count": 6,
     "metadata": {},
     "output_type": "execute_result"
    }
   ],
   "source": [
    "# clean and preprocess the text\n",
    "def preprocess_text(text):\n",
    "    # remove extra whitespaces and convert to lowercase\n",
    "    text = ' '.join(text.split()).lower()\n",
    "    return text\n",
    "\n",
    "cleaned_poems = [preprocess_text(poem) for poem in poems]\n",
    "cleaned_poems[11]"
   ]
  },
  {
   "cell_type": "code",
   "execution_count": 7,
   "id": "c68a41c2",
   "metadata": {
    "execution": {
     "iopub.execute_input": "2024-08-25T12:32:27.197621Z",
     "iopub.status.busy": "2024-08-25T12:32:27.197155Z",
     "iopub.status.idle": "2024-08-25T12:32:27.249398Z",
     "shell.execute_reply": "2024-08-25T12:32:27.248535Z"
    },
    "papermill": {
     "duration": 0.061889,
     "end_time": "2024-08-25T12:32:27.251363",
     "exception": false,
     "start_time": "2024-08-25T12:32:27.189474",
     "status": "completed"
    },
    "tags": []
   },
   "outputs": [
    {
     "data": {
      "text/plain": [
       "7231"
      ]
     },
     "execution_count": 7,
     "metadata": {},
     "output_type": "execute_result"
    }
   ],
   "source": [
    "# Tokenization\n",
    "tokenizer = Tokenizer()\n",
    "tokenizer.fit_on_texts(cleaned_poems)\n",
    "total_words = len(tokenizer.word_index) + 1\n",
    "\n",
    "total_words"
   ]
  },
  {
   "cell_type": "code",
   "execution_count": 8,
   "id": "e96d4bc0",
   "metadata": {
    "execution": {
     "iopub.execute_input": "2024-08-25T12:32:27.267093Z",
     "iopub.status.busy": "2024-08-25T12:32:27.266701Z",
     "iopub.status.idle": "2024-08-25T12:32:27.677917Z",
     "shell.execute_reply": "2024-08-25T12:32:27.676929Z"
    },
    "papermill": {
     "duration": 0.42156,
     "end_time": "2024-08-25T12:32:27.680036",
     "exception": false,
     "start_time": "2024-08-25T12:32:27.258476",
     "status": "completed"
    },
    "tags": []
   },
   "outputs": [
    {
     "data": {
      "text/plain": [
       "[[141, 1000],\n",
       " [141, 1000, 28],\n",
       " [141, 1000, 28, 865],\n",
       " [141, 1000, 28, 865, 63],\n",
       " [141, 1000, 28, 865, 63, 9],\n",
       " [141, 1000, 28, 865, 63, 9, 676],\n",
       " [141, 1000, 28, 865, 63, 9, 676, 112],\n",
       " [141, 1000, 28, 865, 63, 9, 676, 112, 1],\n",
       " [141, 1000, 28, 865, 63, 9, 676, 112, 1, 76],\n",
       " [141, 1000, 28, 865, 63, 9, 676, 112, 1, 76, 15]]"
      ]
     },
     "execution_count": 8,
     "metadata": {},
     "output_type": "execute_result"
    }
   ],
   "source": [
    "# Create input sequences\n",
    "input_sequences = []\n",
    "\n",
    "for poem in cleaned_poems:\n",
    "    # numerical representation of poem\n",
    "    token_list = tokenizer.texts_to_sequences([poem])[0]\n",
    "    \n",
    "    for i in range(1, len(token_list)):\n",
    "        n_gram_sequence = token_list[:i+1]\n",
    "        input_sequences.append(n_gram_sequence)\n",
    "\n",
    "input_sequences[0:10]"
   ]
  },
  {
   "cell_type": "code",
   "execution_count": 9,
   "id": "b661d760",
   "metadata": {
    "execution": {
     "iopub.execute_input": "2024-08-25T12:32:27.696346Z",
     "iopub.status.busy": "2024-08-25T12:32:27.695591Z",
     "iopub.status.idle": "2024-08-25T12:32:28.718452Z",
     "shell.execute_reply": "2024-08-25T12:32:28.717440Z"
    },
    "papermill": {
     "duration": 1.033142,
     "end_time": "2024-08-25T12:32:28.720586",
     "exception": false,
     "start_time": "2024-08-25T12:32:27.687444",
     "status": "completed"
    },
    "tags": []
   },
   "outputs": [
    {
     "name": "stdout",
     "output_type": "stream",
     "text": [
      "Longest sequence is:  2229\n"
     ]
    },
    {
     "data": {
      "text/plain": [
       "array([[   0,    0,    0, ...,    0,  141, 1000],\n",
       "       [   0,    0,    0, ...,  141, 1000,   28],\n",
       "       [   0,    0,    0, ..., 1000,   28,  865]], dtype=int32)"
      ]
     },
     "execution_count": 9,
     "metadata": {},
     "output_type": "execute_result"
    }
   ],
   "source": [
    "# Pad sequences\n",
    "max_sequence_len = max([len(seq) for seq in input_sequences])\n",
    "print(\"Longest sequence is: \", max_sequence_len)\n",
    "\n",
    "input_sequences = np.array(pad_sequences(input_sequences, maxlen=max_sequence_len, padding='pre'))\n",
    "\n",
    "input_sequences[0:3]"
   ]
  },
  {
   "cell_type": "markdown",
   "id": "0f74ced8",
   "metadata": {
    "papermill": {
     "duration": 0.008342,
     "end_time": "2024-08-25T12:32:28.736279",
     "exception": false,
     "start_time": "2024-08-25T12:32:28.727937",
     "status": "completed"
    },
    "tags": []
   },
   "source": [
    "Predictor contains whole sequence except last word. Label would be that last word. Model has to predict this word based on predictor.\n",
    "\n",
    "Example\n",
    "```\n",
    "Sequence = (array([  0,   0,   0, ...,  63,   9, 676], dtype=int32),\n",
    "Predictor = array([  0,   0,   0, ..., 865,  63,   9], dtype=int32),\n",
    "Label = 676)\n",
    " ```"
   ]
  },
  {
   "cell_type": "code",
   "execution_count": 10,
   "id": "856c7de3",
   "metadata": {
    "execution": {
     "iopub.execute_input": "2024-08-25T12:32:28.752487Z",
     "iopub.status.busy": "2024-08-25T12:32:28.752121Z",
     "iopub.status.idle": "2024-08-25T12:32:28.879482Z",
     "shell.execute_reply": "2024-08-25T12:32:28.878345Z"
    },
    "papermill": {
     "duration": 0.138183,
     "end_time": "2024-08-25T12:32:28.881712",
     "exception": false,
     "start_time": "2024-08-25T12:32:28.743529",
     "status": "completed"
    },
    "tags": []
   },
   "outputs": [
    {
     "name": "stdout",
     "output_type": "stream",
     "text": [
      "[  0   0   0 ...  63   9 676] [  0   0   0 ... 865  63   9] 676\n"
     ]
    }
   ],
   "source": [
    "# Create predictors and label\n",
    "X, y = input_sequences[:, :-1], input_sequences[:, -1]\n",
    "\n",
    "print(input_sequences[5], X[5], y[5])\n",
    "\n",
    "# Convert y to categorical\n",
    "y = tf.keras.utils.to_categorical(y, num_classes=total_words)"
   ]
  },
  {
   "cell_type": "code",
   "execution_count": 11,
   "id": "6ea2cc1b",
   "metadata": {
    "execution": {
     "iopub.execute_input": "2024-08-25T12:32:28.898152Z",
     "iopub.status.busy": "2024-08-25T12:32:28.897844Z",
     "iopub.status.idle": "2024-08-25T12:32:28.903723Z",
     "shell.execute_reply": "2024-08-25T12:32:28.902803Z"
    },
    "papermill": {
     "duration": 0.016317,
     "end_time": "2024-08-25T12:32:28.905575",
     "exception": false,
     "start_time": "2024-08-25T12:32:28.889258",
     "status": "completed"
    },
    "tags": []
   },
   "outputs": [
    {
     "data": {
      "text/plain": [
       "(2228,)"
      ]
     },
     "execution_count": 11,
     "metadata": {},
     "output_type": "execute_result"
    }
   ],
   "source": [
    "X[5].shape"
   ]
  },
  {
   "cell_type": "markdown",
   "id": "78b95711",
   "metadata": {
    "papermill": {
     "duration": 0.007457,
     "end_time": "2024-08-25T12:32:28.920771",
     "exception": false,
     "start_time": "2024-08-25T12:32:28.913314",
     "status": "completed"
    },
    "tags": []
   },
   "source": [
    "## Building the Model\n",
    "\n",
    "We will try to create a LSTM-based language model using tensorflow and keras."
   ]
  },
  {
   "cell_type": "code",
   "execution_count": 12,
   "id": "1b97b668",
   "metadata": {
    "execution": {
     "iopub.execute_input": "2024-08-25T12:32:28.937261Z",
     "iopub.status.busy": "2024-08-25T12:32:28.936908Z",
     "iopub.status.idle": "2024-08-25T12:32:29.631750Z",
     "shell.execute_reply": "2024-08-25T12:32:29.630734Z"
    },
    "papermill": {
     "duration": 0.705872,
     "end_time": "2024-08-25T12:32:29.634080",
     "exception": false,
     "start_time": "2024-08-25T12:32:28.928208",
     "status": "completed"
    },
    "tags": []
   },
   "outputs": [
    {
     "name": "stderr",
     "output_type": "stream",
     "text": [
      "/opt/conda/lib/python3.10/site-packages/keras/src/layers/core/embedding.py:90: UserWarning: Argument `input_length` is deprecated. Just remove it.\n",
      "  warnings.warn(\n"
     ]
    }
   ],
   "source": [
    "vocab_size = 7231     # Size of your vocabulary\n",
    "seq_length = 2228     # Length of your sequences\n",
    "embedding_dim = 100   # Dimension of the embedding layer\n",
    "\n",
    "model = Sequential([\n",
    "    Embedding(vocab_size, embedding_dim, input_length=seq_length),\n",
    "    LSTM(128, return_sequences=True),\n",
    "    LSTM(128),\n",
    "    Dense(vocab_size, activation='softmax')\n",
    "])\n",
    "\n",
    "model.compile(loss='categorical_crossentropy', optimizer=Adam(learning_rate=0.001))"
   ]
  },
  {
   "cell_type": "markdown",
   "id": "dcea75d6",
   "metadata": {
    "papermill": {
     "duration": 0.007812,
     "end_time": "2024-08-25T12:32:29.649712",
     "exception": false,
     "start_time": "2024-08-25T12:32:29.641900",
     "status": "completed"
    },
    "tags": []
   },
   "source": [
    "## Training the Model"
   ]
  },
  {
   "cell_type": "code",
   "execution_count": 13,
   "id": "1323a0ce",
   "metadata": {
    "execution": {
     "iopub.execute_input": "2024-08-25T12:32:29.666382Z",
     "iopub.status.busy": "2024-08-25T12:32:29.666010Z",
     "iopub.status.idle": "2024-08-25T14:40:25.703871Z",
     "shell.execute_reply": "2024-08-25T14:40:25.702849Z"
    },
    "papermill": {
     "duration": 7678.456596,
     "end_time": "2024-08-25T14:40:28.113894",
     "exception": false,
     "start_time": "2024-08-25T12:32:29.657298",
     "status": "completed"
    },
    "tags": []
   },
   "outputs": [
    {
     "name": "stdout",
     "output_type": "stream",
     "text": [
      "Epoch 1/50\n",
      "\u001b[1m604/604\u001b[0m \u001b[32m━━━━━━━━━━━━━━━━━━━━\u001b[0m\u001b[37m\u001b[0m \u001b[1m156s\u001b[0m 252ms/step - loss: 7.3377 - val_loss: 7.4314\n",
      "Epoch 2/50\n",
      "\u001b[1m604/604\u001b[0m \u001b[32m━━━━━━━━━━━━━━━━━━━━\u001b[0m\u001b[37m\u001b[0m \u001b[1m151s\u001b[0m 251ms/step - loss: 6.6642 - val_loss: 7.6214\n",
      "Epoch 3/50\n",
      "\u001b[1m604/604\u001b[0m \u001b[32m━━━━━━━━━━━━━━━━━━━━\u001b[0m\u001b[37m\u001b[0m \u001b[1m202s\u001b[0m 250ms/step - loss: 6.5446 - val_loss: 7.7511\n",
      "Epoch 4/50\n",
      "\u001b[1m604/604\u001b[0m \u001b[32m━━━━━━━━━━━━━━━━━━━━\u001b[0m\u001b[37m\u001b[0m \u001b[1m151s\u001b[0m 251ms/step - loss: 6.4390 - val_loss: 7.7746\n",
      "Epoch 5/50\n",
      "\u001b[1m604/604\u001b[0m \u001b[32m━━━━━━━━━━━━━━━━━━━━\u001b[0m\u001b[37m\u001b[0m \u001b[1m151s\u001b[0m 251ms/step - loss: 6.3228 - val_loss: 7.8907\n",
      "Epoch 6/50\n",
      "\u001b[1m604/604\u001b[0m \u001b[32m━━━━━━━━━━━━━━━━━━━━\u001b[0m\u001b[37m\u001b[0m \u001b[1m151s\u001b[0m 251ms/step - loss: 6.1724 - val_loss: 8.0343\n",
      "Epoch 7/50\n",
      "\u001b[1m604/604\u001b[0m \u001b[32m━━━━━━━━━━━━━━━━━━━━\u001b[0m\u001b[37m\u001b[0m \u001b[1m151s\u001b[0m 251ms/step - loss: 6.0216 - val_loss: 8.1216\n",
      "Epoch 8/50\n",
      "\u001b[1m604/604\u001b[0m \u001b[32m━━━━━━━━━━━━━━━━━━━━\u001b[0m\u001b[37m\u001b[0m \u001b[1m151s\u001b[0m 251ms/step - loss: 5.8862 - val_loss: 8.2367\n",
      "Epoch 9/50\n",
      "\u001b[1m604/604\u001b[0m \u001b[32m━━━━━━━━━━━━━━━━━━━━\u001b[0m\u001b[37m\u001b[0m \u001b[1m151s\u001b[0m 251ms/step - loss: 5.7595 - val_loss: 8.3467\n",
      "Epoch 10/50\n",
      "\u001b[1m604/604\u001b[0m \u001b[32m━━━━━━━━━━━━━━━━━━━━\u001b[0m\u001b[37m\u001b[0m \u001b[1m151s\u001b[0m 251ms/step - loss: 5.6360 - val_loss: 8.4366\n",
      "Epoch 11/50\n",
      "\u001b[1m604/604\u001b[0m \u001b[32m━━━━━━━━━━━━━━━━━━━━\u001b[0m\u001b[37m\u001b[0m \u001b[1m151s\u001b[0m 251ms/step - loss: 5.5140 - val_loss: 8.6868\n",
      "Epoch 12/50\n",
      "\u001b[1m604/604\u001b[0m \u001b[32m━━━━━━━━━━━━━━━━━━━━\u001b[0m\u001b[37m\u001b[0m \u001b[1m151s\u001b[0m 251ms/step - loss: 5.3818 - val_loss: 8.7606\n",
      "Epoch 13/50\n",
      "\u001b[1m604/604\u001b[0m \u001b[32m━━━━━━━━━━━━━━━━━━━━\u001b[0m\u001b[37m\u001b[0m \u001b[1m152s\u001b[0m 251ms/step - loss: 5.2348 - val_loss: 8.9348\n",
      "Epoch 14/50\n",
      "\u001b[1m604/604\u001b[0m \u001b[32m━━━━━━━━━━━━━━━━━━━━\u001b[0m\u001b[37m\u001b[0m \u001b[1m151s\u001b[0m 251ms/step - loss: 5.1154 - val_loss: 9.1964\n",
      "Epoch 15/50\n",
      "\u001b[1m604/604\u001b[0m \u001b[32m━━━━━━━━━━━━━━━━━━━━\u001b[0m\u001b[37m\u001b[0m \u001b[1m151s\u001b[0m 251ms/step - loss: 4.9910 - val_loss: 9.3137\n",
      "Epoch 16/50\n",
      "\u001b[1m604/604\u001b[0m \u001b[32m━━━━━━━━━━━━━━━━━━━━\u001b[0m\u001b[37m\u001b[0m \u001b[1m151s\u001b[0m 251ms/step - loss: 4.8481 - val_loss: 9.5154\n",
      "Epoch 17/50\n",
      "\u001b[1m604/604\u001b[0m \u001b[32m━━━━━━━━━━━━━━━━━━━━\u001b[0m\u001b[37m\u001b[0m \u001b[1m151s\u001b[0m 251ms/step - loss: 4.7292 - val_loss: 9.6091\n",
      "Epoch 18/50\n",
      "\u001b[1m604/604\u001b[0m \u001b[32m━━━━━━━━━━━━━━━━━━━━\u001b[0m\u001b[37m\u001b[0m \u001b[1m151s\u001b[0m 251ms/step - loss: 4.6053 - val_loss: 9.8794\n",
      "Epoch 19/50\n",
      "\u001b[1m604/604\u001b[0m \u001b[32m━━━━━━━━━━━━━━━━━━━━\u001b[0m\u001b[37m\u001b[0m \u001b[1m151s\u001b[0m 251ms/step - loss: 4.4768 - val_loss: 9.9951\n",
      "Epoch 20/50\n",
      "\u001b[1m604/604\u001b[0m \u001b[32m━━━━━━━━━━━━━━━━━━━━\u001b[0m\u001b[37m\u001b[0m \u001b[1m151s\u001b[0m 251ms/step - loss: 4.3537 - val_loss: 10.2166\n",
      "Epoch 21/50\n",
      "\u001b[1m604/604\u001b[0m \u001b[32m━━━━━━━━━━━━━━━━━━━━\u001b[0m\u001b[37m\u001b[0m \u001b[1m151s\u001b[0m 251ms/step - loss: 4.2591 - val_loss: 10.4014\n",
      "Epoch 22/50\n",
      "\u001b[1m604/604\u001b[0m \u001b[32m━━━━━━━━━━━━━━━━━━━━\u001b[0m\u001b[37m\u001b[0m \u001b[1m151s\u001b[0m 251ms/step - loss: 4.1301 - val_loss: 10.5651\n",
      "Epoch 23/50\n",
      "\u001b[1m604/604\u001b[0m \u001b[32m━━━━━━━━━━━━━━━━━━━━\u001b[0m\u001b[37m\u001b[0m \u001b[1m151s\u001b[0m 251ms/step - loss: 4.0138 - val_loss: 10.7691\n",
      "Epoch 24/50\n",
      "\u001b[1m604/604\u001b[0m \u001b[32m━━━━━━━━━━━━━━━━━━━━\u001b[0m\u001b[37m\u001b[0m \u001b[1m151s\u001b[0m 251ms/step - loss: 3.9173 - val_loss: 10.9441\n",
      "Epoch 25/50\n",
      "\u001b[1m604/604\u001b[0m \u001b[32m━━━━━━━━━━━━━━━━━━━━\u001b[0m\u001b[37m\u001b[0m \u001b[1m151s\u001b[0m 250ms/step - loss: 3.8278 - val_loss: 11.1499\n",
      "Epoch 26/50\n",
      "\u001b[1m604/604\u001b[0m \u001b[32m━━━━━━━━━━━━━━━━━━━━\u001b[0m\u001b[37m\u001b[0m \u001b[1m151s\u001b[0m 250ms/step - loss: 3.7144 - val_loss: 11.2576\n",
      "Epoch 27/50\n",
      "\u001b[1m604/604\u001b[0m \u001b[32m━━━━━━━━━━━━━━━━━━━━\u001b[0m\u001b[37m\u001b[0m \u001b[1m151s\u001b[0m 250ms/step - loss: 3.6475 - val_loss: 11.4394\n",
      "Epoch 28/50\n",
      "\u001b[1m604/604\u001b[0m \u001b[32m━━━━━━━━━━━━━━━━━━━━\u001b[0m\u001b[37m\u001b[0m \u001b[1m151s\u001b[0m 250ms/step - loss: 3.5709 - val_loss: 11.5837\n",
      "Epoch 29/50\n",
      "\u001b[1m604/604\u001b[0m \u001b[32m━━━━━━━━━━━━━━━━━━━━\u001b[0m\u001b[37m\u001b[0m \u001b[1m151s\u001b[0m 251ms/step - loss: 3.4710 - val_loss: 11.8075\n",
      "Epoch 30/50\n",
      "\u001b[1m604/604\u001b[0m \u001b[32m━━━━━━━━━━━━━━━━━━━━\u001b[0m\u001b[37m\u001b[0m \u001b[1m151s\u001b[0m 251ms/step - loss: 3.3916 - val_loss: 11.9330\n",
      "Epoch 31/50\n",
      "\u001b[1m604/604\u001b[0m \u001b[32m━━━━━━━━━━━━━━━━━━━━\u001b[0m\u001b[37m\u001b[0m \u001b[1m151s\u001b[0m 250ms/step - loss: 3.3179 - val_loss: 12.0627\n",
      "Epoch 32/50\n",
      "\u001b[1m604/604\u001b[0m \u001b[32m━━━━━━━━━━━━━━━━━━━━\u001b[0m\u001b[37m\u001b[0m \u001b[1m151s\u001b[0m 250ms/step - loss: 3.2527 - val_loss: 12.1838\n",
      "Epoch 33/50\n",
      "\u001b[1m604/604\u001b[0m \u001b[32m━━━━━━━━━━━━━━━━━━━━\u001b[0m\u001b[37m\u001b[0m \u001b[1m151s\u001b[0m 250ms/step - loss: 3.1834 - val_loss: 12.3717\n",
      "Epoch 34/50\n",
      "\u001b[1m604/604\u001b[0m \u001b[32m━━━━━━━━━━━━━━━━━━━━\u001b[0m\u001b[37m\u001b[0m \u001b[1m151s\u001b[0m 250ms/step - loss: 3.1088 - val_loss: 12.4903\n",
      "Epoch 35/50\n",
      "\u001b[1m604/604\u001b[0m \u001b[32m━━━━━━━━━━━━━━━━━━━━\u001b[0m\u001b[37m\u001b[0m \u001b[1m151s\u001b[0m 250ms/step - loss: 3.0605 - val_loss: 12.6140\n",
      "Epoch 36/50\n",
      "\u001b[1m604/604\u001b[0m \u001b[32m━━━━━━━━━━━━━━━━━━━━\u001b[0m\u001b[37m\u001b[0m \u001b[1m151s\u001b[0m 250ms/step - loss: 2.9704 - val_loss: 12.8264\n",
      "Epoch 37/50\n",
      "\u001b[1m604/604\u001b[0m \u001b[32m━━━━━━━━━━━━━━━━━━━━\u001b[0m\u001b[37m\u001b[0m \u001b[1m202s\u001b[0m 250ms/step - loss: 2.9201 - val_loss: 12.8582\n",
      "Epoch 38/50\n",
      "\u001b[1m604/604\u001b[0m \u001b[32m━━━━━━━━━━━━━━━━━━━━\u001b[0m\u001b[37m\u001b[0m \u001b[1m151s\u001b[0m 250ms/step - loss: 2.8549 - val_loss: 12.9711\n",
      "Epoch 39/50\n",
      "\u001b[1m604/604\u001b[0m \u001b[32m━━━━━━━━━━━━━━━━━━━━\u001b[0m\u001b[37m\u001b[0m \u001b[1m151s\u001b[0m 251ms/step - loss: 2.7844 - val_loss: 13.0889\n",
      "Epoch 40/50\n",
      "\u001b[1m604/604\u001b[0m \u001b[32m━━━━━━━━━━━━━━━━━━━━\u001b[0m\u001b[37m\u001b[0m \u001b[1m151s\u001b[0m 250ms/step - loss: 2.7369 - val_loss: 13.2965\n",
      "Epoch 41/50\n",
      "\u001b[1m604/604\u001b[0m \u001b[32m━━━━━━━━━━━━━━━━━━━━\u001b[0m\u001b[37m\u001b[0m \u001b[1m151s\u001b[0m 250ms/step - loss: 2.6802 - val_loss: 13.3695\n",
      "Epoch 42/50\n",
      "\u001b[1m604/604\u001b[0m \u001b[32m━━━━━━━━━━━━━━━━━━━━\u001b[0m\u001b[37m\u001b[0m \u001b[1m151s\u001b[0m 250ms/step - loss: 2.6137 - val_loss: 13.4924\n",
      "Epoch 43/50\n",
      "\u001b[1m604/604\u001b[0m \u001b[32m━━━━━━━━━━━━━━━━━━━━\u001b[0m\u001b[37m\u001b[0m \u001b[1m151s\u001b[0m 250ms/step - loss: 2.5763 - val_loss: 13.5780\n",
      "Epoch 44/50\n",
      "\u001b[1m604/604\u001b[0m \u001b[32m━━━━━━━━━━━━━━━━━━━━\u001b[0m\u001b[37m\u001b[0m \u001b[1m151s\u001b[0m 250ms/step - loss: 2.5320 - val_loss: 13.6922\n",
      "Epoch 45/50\n",
      "\u001b[1m604/604\u001b[0m \u001b[32m━━━━━━━━━━━━━━━━━━━━\u001b[0m\u001b[37m\u001b[0m \u001b[1m151s\u001b[0m 250ms/step - loss: 2.4781 - val_loss: 13.8108\n",
      "Epoch 46/50\n",
      "\u001b[1m604/604\u001b[0m \u001b[32m━━━━━━━━━━━━━━━━━━━━\u001b[0m\u001b[37m\u001b[0m \u001b[1m151s\u001b[0m 250ms/step - loss: 2.4359 - val_loss: 13.9366\n",
      "Epoch 47/50\n",
      "\u001b[1m604/604\u001b[0m \u001b[32m━━━━━━━━━━━━━━━━━━━━\u001b[0m\u001b[37m\u001b[0m \u001b[1m151s\u001b[0m 250ms/step - loss: 2.3908 - val_loss: 14.0483\n",
      "Epoch 48/50\n",
      "\u001b[1m604/604\u001b[0m \u001b[32m━━━━━━━━━━━━━━━━━━━━\u001b[0m\u001b[37m\u001b[0m \u001b[1m151s\u001b[0m 250ms/step - loss: 2.3389 - val_loss: 14.1665\n",
      "Epoch 49/50\n",
      "\u001b[1m604/604\u001b[0m \u001b[32m━━━━━━━━━━━━━━━━━━━━\u001b[0m\u001b[37m\u001b[0m \u001b[1m151s\u001b[0m 250ms/step - loss: 2.2678 - val_loss: 14.2659\n",
      "Epoch 50/50\n",
      "\u001b[1m604/604\u001b[0m \u001b[32m━━━━━━━━━━━━━━━━━━━━\u001b[0m\u001b[37m\u001b[0m \u001b[1m151s\u001b[0m 251ms/step - loss: 2.2281 - val_loss: 14.3990\n"
     ]
    }
   ],
   "source": [
    "history = model.fit(X, y, epochs=50, batch_size=64, validation_split=0.2)"
   ]
  },
  {
   "cell_type": "markdown",
   "id": "428b51a7",
   "metadata": {
    "papermill": {
     "duration": 2.508331,
     "end_time": "2024-08-25T14:40:33.171936",
     "exception": false,
     "start_time": "2024-08-25T14:40:30.663605",
     "status": "completed"
    },
    "tags": []
   },
   "source": [
    "## Generating Poems\n",
    "\n",
    "After training, to generated new poems:\n",
    "\n",
    "1. Start wtih a seed text.\n",
    "2. Predicting the next word using the trained model.\n",
    "3. Appending the predicted word to the seed text.\n",
    "4. Repeating the process until you reach the desired length."
   ]
  },
  {
   "cell_type": "code",
   "execution_count": 14,
   "id": "f2176753",
   "metadata": {
    "execution": {
     "iopub.execute_input": "2024-08-25T14:40:38.219708Z",
     "iopub.status.busy": "2024-08-25T14:40:38.219296Z",
     "iopub.status.idle": "2024-08-25T14:40:38.225888Z",
     "shell.execute_reply": "2024-08-25T14:40:38.224942Z"
    },
    "papermill": {
     "duration": 2.545959,
     "end_time": "2024-08-25T14:40:38.228010",
     "exception": false,
     "start_time": "2024-08-25T14:40:35.682051",
     "status": "completed"
    },
    "tags": []
   },
   "outputs": [],
   "source": [
    "def generate_poem(model, seed_text, num_words):\n",
    "    generated_text = seed_text\n",
    "    \n",
    "    for _ in range(num_words):\n",
    "        # Tokenize and pad the input sequence\n",
    "        sequence = tokenizer.texts_to_sequences([generated_text])\n",
    "        padded_sequence = pad_sequences(sequence, maxlen=seq_length, padding='pre')\n",
    "        \n",
    "        # Predict the next word\n",
    "        predicted = model.predict(padded_sequence)\n",
    "        predicted_word_index = np.argmax(predicted)\n",
    "        \n",
    "        predicted_word = tokenizer.index_word[predicted_word_index]\n",
    "        \n",
    "        # Append the predicted word to the generated text\n",
    "        generated_text += \" \" + predicted_word\n",
    "    \n",
    "    return generated_text"
   ]
  },
  {
   "cell_type": "code",
   "execution_count": 15,
   "id": "9deb9109",
   "metadata": {
    "execution": {
     "iopub.execute_input": "2024-08-25T14:40:43.252954Z",
     "iopub.status.busy": "2024-08-25T14:40:43.252420Z",
     "iopub.status.idle": "2024-08-25T14:40:48.566580Z",
     "shell.execute_reply": "2024-08-25T14:40:48.565679Z"
    },
    "papermill": {
     "duration": 7.813439,
     "end_time": "2024-08-25T14:40:48.568647",
     "exception": false,
     "start_time": "2024-08-25T14:40:40.755208",
     "status": "completed"
    },
    "tags": []
   },
   "outputs": [
    {
     "name": "stdout",
     "output_type": "stream",
     "text": [
      "\u001b[1m1/1\u001b[0m \u001b[32m━━━━━━━━━━━━━━━━━━━━\u001b[0m\u001b[37m\u001b[0m \u001b[1m0s\u001b[0m 262ms/step\n",
      "\u001b[1m1/1\u001b[0m \u001b[32m━━━━━━━━━━━━━━━━━━━━\u001b[0m\u001b[37m\u001b[0m \u001b[1m0s\u001b[0m 60ms/step\n",
      "\u001b[1m1/1\u001b[0m \u001b[32m━━━━━━━━━━━━━━━━━━━━\u001b[0m\u001b[37m\u001b[0m \u001b[1m0s\u001b[0m 60ms/step\n",
      "\u001b[1m1/1\u001b[0m \u001b[32m━━━━━━━━━━━━━━━━━━━━\u001b[0m\u001b[37m\u001b[0m \u001b[1m0s\u001b[0m 62ms/step\n",
      "\u001b[1m1/1\u001b[0m \u001b[32m━━━━━━━━━━━━━━━━━━━━\u001b[0m\u001b[37m\u001b[0m \u001b[1m0s\u001b[0m 59ms/step\n",
      "\u001b[1m1/1\u001b[0m \u001b[32m━━━━━━━━━━━━━━━━━━━━\u001b[0m\u001b[37m\u001b[0m \u001b[1m0s\u001b[0m 60ms/step\n",
      "\u001b[1m1/1\u001b[0m \u001b[32m━━━━━━━━━━━━━━━━━━━━\u001b[0m\u001b[37m\u001b[0m \u001b[1m0s\u001b[0m 60ms/step\n",
      "\u001b[1m1/1\u001b[0m \u001b[32m━━━━━━━━━━━━━━━━━━━━\u001b[0m\u001b[37m\u001b[0m \u001b[1m0s\u001b[0m 60ms/step\n",
      "\u001b[1m1/1\u001b[0m \u001b[32m━━━━━━━━━━━━━━━━━━━━\u001b[0m\u001b[37m\u001b[0m \u001b[1m0s\u001b[0m 61ms/step\n",
      "\u001b[1m1/1\u001b[0m \u001b[32m━━━━━━━━━━━━━━━━━━━━\u001b[0m\u001b[37m\u001b[0m \u001b[1m0s\u001b[0m 61ms/step\n",
      "\u001b[1m1/1\u001b[0m \u001b[32m━━━━━━━━━━━━━━━━━━━━\u001b[0m\u001b[37m\u001b[0m \u001b[1m0s\u001b[0m 61ms/step\n",
      "\u001b[1m1/1\u001b[0m \u001b[32m━━━━━━━━━━━━━━━━━━━━\u001b[0m\u001b[37m\u001b[0m \u001b[1m0s\u001b[0m 61ms/step\n",
      "\u001b[1m1/1\u001b[0m \u001b[32m━━━━━━━━━━━━━━━━━━━━\u001b[0m\u001b[37m\u001b[0m \u001b[1m0s\u001b[0m 60ms/step\n",
      "\u001b[1m1/1\u001b[0m \u001b[32m━━━━━━━━━━━━━━━━━━━━\u001b[0m\u001b[37m\u001b[0m \u001b[1m0s\u001b[0m 60ms/step\n",
      "\u001b[1m1/1\u001b[0m \u001b[32m━━━━━━━━━━━━━━━━━━━━\u001b[0m\u001b[37m\u001b[0m \u001b[1m0s\u001b[0m 59ms/step\n",
      "\u001b[1m1/1\u001b[0m \u001b[32m━━━━━━━━━━━━━━━━━━━━\u001b[0m\u001b[37m\u001b[0m \u001b[1m0s\u001b[0m 60ms/step\n",
      "\u001b[1m1/1\u001b[0m \u001b[32m━━━━━━━━━━━━━━━━━━━━\u001b[0m\u001b[37m\u001b[0m \u001b[1m0s\u001b[0m 59ms/step\n",
      "\u001b[1m1/1\u001b[0m \u001b[32m━━━━━━━━━━━━━━━━━━━━\u001b[0m\u001b[37m\u001b[0m \u001b[1m0s\u001b[0m 60ms/step\n",
      "\u001b[1m1/1\u001b[0m \u001b[32m━━━━━━━━━━━━━━━━━━━━\u001b[0m\u001b[37m\u001b[0m \u001b[1m0s\u001b[0m 60ms/step\n",
      "\u001b[1m1/1\u001b[0m \u001b[32m━━━━━━━━━━━━━━━━━━━━\u001b[0m\u001b[37m\u001b[0m \u001b[1m0s\u001b[0m 61ms/step\n",
      "\u001b[1m1/1\u001b[0m \u001b[32m━━━━━━━━━━━━━━━━━━━━\u001b[0m\u001b[37m\u001b[0m \u001b[1m0s\u001b[0m 60ms/step\n",
      "\u001b[1m1/1\u001b[0m \u001b[32m━━━━━━━━━━━━━━━━━━━━\u001b[0m\u001b[37m\u001b[0m \u001b[1m0s\u001b[0m 63ms/step\n",
      "\u001b[1m1/1\u001b[0m \u001b[32m━━━━━━━━━━━━━━━━━━━━\u001b[0m\u001b[37m\u001b[0m \u001b[1m0s\u001b[0m 60ms/step\n",
      "\u001b[1m1/1\u001b[0m \u001b[32m━━━━━━━━━━━━━━━━━━━━\u001b[0m\u001b[37m\u001b[0m \u001b[1m0s\u001b[0m 61ms/step\n",
      "\u001b[1m1/1\u001b[0m \u001b[32m━━━━━━━━━━━━━━━━━━━━\u001b[0m\u001b[37m\u001b[0m \u001b[1m0s\u001b[0m 61ms/step\n",
      "\u001b[1m1/1\u001b[0m \u001b[32m━━━━━━━━━━━━━━━━━━━━\u001b[0m\u001b[37m\u001b[0m \u001b[1m0s\u001b[0m 62ms/step\n",
      "\u001b[1m1/1\u001b[0m \u001b[32m━━━━━━━━━━━━━━━━━━━━\u001b[0m\u001b[37m\u001b[0m \u001b[1m0s\u001b[0m 61ms/step\n",
      "\u001b[1m1/1\u001b[0m \u001b[32m━━━━━━━━━━━━━━━━━━━━\u001b[0m\u001b[37m\u001b[0m \u001b[1m0s\u001b[0m 59ms/step\n",
      "\u001b[1m1/1\u001b[0m \u001b[32m━━━━━━━━━━━━━━━━━━━━\u001b[0m\u001b[37m\u001b[0m \u001b[1m0s\u001b[0m 61ms/step\n",
      "\u001b[1m1/1\u001b[0m \u001b[32m━━━━━━━━━━━━━━━━━━━━\u001b[0m\u001b[37m\u001b[0m \u001b[1m0s\u001b[0m 59ms/step\n",
      "\u001b[1m1/1\u001b[0m \u001b[32m━━━━━━━━━━━━━━━━━━━━\u001b[0m\u001b[37m\u001b[0m \u001b[1m0s\u001b[0m 61ms/step\n",
      "\u001b[1m1/1\u001b[0m \u001b[32m━━━━━━━━━━━━━━━━━━━━\u001b[0m\u001b[37m\u001b[0m \u001b[1m0s\u001b[0m 61ms/step\n",
      "\u001b[1m1/1\u001b[0m \u001b[32m━━━━━━━━━━━━━━━━━━━━\u001b[0m\u001b[37m\u001b[0m \u001b[1m0s\u001b[0m 61ms/step\n",
      "\u001b[1m1/1\u001b[0m \u001b[32m━━━━━━━━━━━━━━━━━━━━\u001b[0m\u001b[37m\u001b[0m \u001b[1m0s\u001b[0m 60ms/step\n",
      "\u001b[1m1/1\u001b[0m \u001b[32m━━━━━━━━━━━━━━━━━━━━\u001b[0m\u001b[37m\u001b[0m \u001b[1m0s\u001b[0m 60ms/step\n",
      "\u001b[1m1/1\u001b[0m \u001b[32m━━━━━━━━━━━━━━━━━━━━\u001b[0m\u001b[37m\u001b[0m \u001b[1m0s\u001b[0m 61ms/step\n",
      "\u001b[1m1/1\u001b[0m \u001b[32m━━━━━━━━━━━━━━━━━━━━\u001b[0m\u001b[37m\u001b[0m \u001b[1m0s\u001b[0m 59ms/step\n",
      "\u001b[1m1/1\u001b[0m \u001b[32m━━━━━━━━━━━━━━━━━━━━\u001b[0m\u001b[37m\u001b[0m \u001b[1m0s\u001b[0m 61ms/step\n",
      "\u001b[1m1/1\u001b[0m \u001b[32m━━━━━━━━━━━━━━━━━━━━\u001b[0m\u001b[37m\u001b[0m \u001b[1m0s\u001b[0m 59ms/step\n",
      "\u001b[1m1/1\u001b[0m \u001b[32m━━━━━━━━━━━━━━━━━━━━\u001b[0m\u001b[37m\u001b[0m \u001b[1m0s\u001b[0m 59ms/step\n",
      "\u001b[1m1/1\u001b[0m \u001b[32m━━━━━━━━━━━━━━━━━━━━\u001b[0m\u001b[37m\u001b[0m \u001b[1m0s\u001b[0m 59ms/step\n",
      "\u001b[1m1/1\u001b[0m \u001b[32m━━━━━━━━━━━━━━━━━━━━\u001b[0m\u001b[37m\u001b[0m \u001b[1m0s\u001b[0m 63ms/step\n",
      "\u001b[1m1/1\u001b[0m \u001b[32m━━━━━━━━━━━━━━━━━━━━\u001b[0m\u001b[37m\u001b[0m \u001b[1m0s\u001b[0m 66ms/step\n",
      "\u001b[1m1/1\u001b[0m \u001b[32m━━━━━━━━━━━━━━━━━━━━\u001b[0m\u001b[37m\u001b[0m \u001b[1m0s\u001b[0m 62ms/step\n",
      "\u001b[1m1/1\u001b[0m \u001b[32m━━━━━━━━━━━━━━━━━━━━\u001b[0m\u001b[37m\u001b[0m \u001b[1m0s\u001b[0m 60ms/step\n",
      "\u001b[1m1/1\u001b[0m \u001b[32m━━━━━━━━━━━━━━━━━━━━\u001b[0m\u001b[37m\u001b[0m \u001b[1m0s\u001b[0m 62ms/step\n",
      "\u001b[1m1/1\u001b[0m \u001b[32m━━━━━━━━━━━━━━━━━━━━\u001b[0m\u001b[37m\u001b[0m \u001b[1m0s\u001b[0m 61ms/step\n",
      "\u001b[1m1/1\u001b[0m \u001b[32m━━━━━━━━━━━━━━━━━━━━\u001b[0m\u001b[37m\u001b[0m \u001b[1m0s\u001b[0m 60ms/step\n",
      "\u001b[1m1/1\u001b[0m \u001b[32m━━━━━━━━━━━━━━━━━━━━\u001b[0m\u001b[37m\u001b[0m \u001b[1m0s\u001b[0m 60ms/step\n",
      "\u001b[1m1/1\u001b[0m \u001b[32m━━━━━━━━━━━━━━━━━━━━\u001b[0m\u001b[37m\u001b[0m \u001b[1m0s\u001b[0m 60ms/step\n"
     ]
    },
    {
     "data": {
      "text/plain": [
       "'Love is a sickness full of woes a race the colour that the size all which the prease of the purest sky for this a wishfull vow of the ground beneath her eyelids she or are times lord the world subdue both that that water with her eyes the fyre of woe'"
      ]
     },
     "execution_count": 15,
     "metadata": {},
     "output_type": "execute_result"
    }
   ],
   "source": [
    "# Generated a poem\n",
    "seed_text = \"Love is\"\n",
    "generate_poem(model, seed_text, 50)"
   ]
  },
  {
   "cell_type": "code",
   "execution_count": null,
   "id": "eeba1588",
   "metadata": {
    "papermill": {
     "duration": 2.476826,
     "end_time": "2024-08-25T14:40:53.556262",
     "exception": false,
     "start_time": "2024-08-25T14:40:51.079436",
     "status": "completed"
    },
    "tags": []
   },
   "outputs": [],
   "source": []
  }
 ],
 "metadata": {
  "kaggle": {
   "accelerator": "gpu",
   "dataSources": [
    {
     "datasetId": 1480,
     "sourceId": 2650,
     "sourceType": "datasetVersion"
    }
   ],
   "dockerImageVersionId": 30762,
   "isGpuEnabled": true,
   "isInternetEnabled": true,
   "language": "python",
   "sourceType": "notebook"
  },
  "kernelspec": {
   "display_name": "Python 3",
   "language": "python",
   "name": "python3"
  },
  "language_info": {
   "codemirror_mode": {
    "name": "ipython",
    "version": 3
   },
   "file_extension": ".py",
   "mimetype": "text/x-python",
   "name": "python",
   "nbconvert_exporter": "python",
   "pygments_lexer": "ipython3",
   "version": "3.10.14"
  },
  "papermill": {
   "default_parameters": {},
   "duration": 7728.063827,
   "end_time": "2024-08-25T14:40:58.849479",
   "environment_variables": {},
   "exception": null,
   "input_path": "__notebook__.ipynb",
   "output_path": "__notebook__.ipynb",
   "parameters": {},
   "start_time": "2024-08-25T12:32:10.785652",
   "version": "2.6.0"
  }
 },
 "nbformat": 4,
 "nbformat_minor": 5
}
