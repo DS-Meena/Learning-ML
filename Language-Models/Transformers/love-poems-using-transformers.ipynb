{
 "cells": [
  {
   "cell_type": "markdown",
   "id": "b5f918b6",
   "metadata": {
    "papermill": {
     "duration": 0.006878,
     "end_time": "2024-09-01T11:00:50.401818",
     "exception": false,
     "start_time": "2024-09-01T11:00:50.394940",
     "status": "completed"
    },
    "tags": []
   },
   "source": [
    "## Read the Data"
   ]
  },
  {
   "cell_type": "code",
   "execution_count": 1,
   "id": "f2590efa",
   "metadata": {
    "_cell_guid": "b1076dfc-b9ad-4769-8c92-a6c4dae69d19",
    "_uuid": "8f2839f25d086af736a60e9eeb907d3b93b6e0e5",
    "execution": {
     "iopub.execute_input": "2024-09-01T11:00:50.416217Z",
     "iopub.status.busy": "2024-09-01T11:00:50.415465Z",
     "iopub.status.idle": "2024-09-01T11:01:03.170733Z",
     "shell.execute_reply": "2024-09-01T11:01:03.169858Z"
    },
    "papermill": {
     "duration": 12.764521,
     "end_time": "2024-09-01T11:01:03.172780",
     "exception": false,
     "start_time": "2024-09-01T11:00:50.408259",
     "status": "completed"
    },
    "tags": []
   },
   "outputs": [
    {
     "data": {
      "text/html": [
       "<div>\n",
       "<style scoped>\n",
       "    .dataframe tbody tr th:only-of-type {\n",
       "        vertical-align: middle;\n",
       "    }\n",
       "\n",
       "    .dataframe tbody tr th {\n",
       "        vertical-align: top;\n",
       "    }\n",
       "\n",
       "    .dataframe thead th {\n",
       "        text-align: right;\n",
       "    }\n",
       "</style>\n",
       "<table border=\"1\" class=\"dataframe\">\n",
       "  <thead>\n",
       "    <tr style=\"text-align: right;\">\n",
       "      <th></th>\n",
       "      <th>author</th>\n",
       "      <th>content</th>\n",
       "      <th>poem name</th>\n",
       "      <th>age</th>\n",
       "      <th>type</th>\n",
       "    </tr>\n",
       "  </thead>\n",
       "  <tbody>\n",
       "    <tr>\n",
       "      <th>0</th>\n",
       "      <td>WILLIAM SHAKESPEARE</td>\n",
       "      <td>Let the bird of loudest lay\\r\\nOn the sole Ara...</td>\n",
       "      <td>The Phoenix and the Turtle</td>\n",
       "      <td>Renaissance</td>\n",
       "      <td>Mythology &amp; Folklore</td>\n",
       "    </tr>\n",
       "    <tr>\n",
       "      <th>1</th>\n",
       "      <td>DUCHESS OF NEWCASTLE MARGARET CAVENDISH</td>\n",
       "      <td>Sir Charles into my chamber coming in,\\r\\nWhen...</td>\n",
       "      <td>An Epilogue to the Above</td>\n",
       "      <td>Renaissance</td>\n",
       "      <td>Mythology &amp; Folklore</td>\n",
       "    </tr>\n",
       "    <tr>\n",
       "      <th>2</th>\n",
       "      <td>THOMAS BASTARD</td>\n",
       "      <td>Our vice runs beyond all that old men saw,\\r\\n...</td>\n",
       "      <td>Book 7, Epigram 42</td>\n",
       "      <td>Renaissance</td>\n",
       "      <td>Mythology &amp; Folklore</td>\n",
       "    </tr>\n",
       "    <tr>\n",
       "      <th>3</th>\n",
       "      <td>EDMUND SPENSER</td>\n",
       "      <td>Lo I the man, whose Muse whilome did maske,\\r\\...</td>\n",
       "      <td>from The Faerie Queene: Book I, Canto I</td>\n",
       "      <td>Renaissance</td>\n",
       "      <td>Mythology &amp; Folklore</td>\n",
       "    </tr>\n",
       "    <tr>\n",
       "      <th>4</th>\n",
       "      <td>RICHARD BARNFIELD</td>\n",
       "      <td>Long have I longd to see my love againe,\\r\\nSt...</td>\n",
       "      <td>Sonnet 16</td>\n",
       "      <td>Renaissance</td>\n",
       "      <td>Mythology &amp; Folklore</td>\n",
       "    </tr>\n",
       "  </tbody>\n",
       "</table>\n",
       "</div>"
      ],
      "text/plain": [
       "                                    author  \\\n",
       "0                      WILLIAM SHAKESPEARE   \n",
       "1  DUCHESS OF NEWCASTLE MARGARET CAVENDISH   \n",
       "2                           THOMAS BASTARD   \n",
       "3                           EDMUND SPENSER   \n",
       "4                        RICHARD BARNFIELD   \n",
       "\n",
       "                                             content  \\\n",
       "0  Let the bird of loudest lay\\r\\nOn the sole Ara...   \n",
       "1  Sir Charles into my chamber coming in,\\r\\nWhen...   \n",
       "2  Our vice runs beyond all that old men saw,\\r\\n...   \n",
       "3  Lo I the man, whose Muse whilome did maske,\\r\\...   \n",
       "4  Long have I longd to see my love againe,\\r\\nSt...   \n",
       "\n",
       "                                 poem name          age                  type  \n",
       "0               The Phoenix and the Turtle  Renaissance  Mythology & Folklore  \n",
       "1                 An Epilogue to the Above  Renaissance  Mythology & Folklore  \n",
       "2                       Book 7, Epigram 42  Renaissance  Mythology & Folklore  \n",
       "3  from The Faerie Queene: Book I, Canto I  Renaissance  Mythology & Folklore  \n",
       "4                                Sonnet 16  Renaissance  Mythology & Folklore  "
      ]
     },
     "execution_count": 1,
     "metadata": {},
     "output_type": "execute_result"
    }
   ],
   "source": [
    "import pandas as pd\n",
    "import numpy as np\n",
    "import tensorflow as tf\n",
    "import re\n",
    "from tensorflow.keras.preprocessing.text import Tokenizer\n",
    "from tensorflow.keras.preprocessing.sequence import pad_sequences\n",
    "\n",
    "from tensorflow.keras.models import Sequential\n",
    "from tensorflow.keras.layers import Embedding, Dense, LayerNormalization, MultiHeadAttention\n",
    "from tensorflow.keras.optimizers import Adam\n",
    "\n",
    "my_data = pd.read_csv(\"/kaggle/input/modern-renaissance-poetry/all.csv\")\n",
    "my_data.head()"
   ]
  },
  {
   "cell_type": "code",
   "execution_count": 2,
   "id": "297fe33b",
   "metadata": {
    "execution": {
     "iopub.execute_input": "2024-09-01T11:01:03.187137Z",
     "iopub.status.busy": "2024-09-01T11:01:03.186442Z",
     "iopub.status.idle": "2024-09-01T11:01:03.192026Z",
     "shell.execute_reply": "2024-09-01T11:01:03.191200Z"
    },
    "papermill": {
     "duration": 0.014582,
     "end_time": "2024-09-01T11:01:03.193823",
     "exception": false,
     "start_time": "2024-09-01T11:01:03.179241",
     "status": "completed"
    },
    "tags": []
   },
   "outputs": [
    {
     "data": {
      "text/plain": [
       "(573, 5)"
      ]
     },
     "execution_count": 2,
     "metadata": {},
     "output_type": "execute_result"
    }
   ],
   "source": [
    "my_data.shape"
   ]
  },
  {
   "cell_type": "code",
   "execution_count": 3,
   "id": "ee5f9663",
   "metadata": {
    "execution": {
     "iopub.execute_input": "2024-09-01T11:01:03.207491Z",
     "iopub.status.busy": "2024-09-01T11:01:03.207220Z",
     "iopub.status.idle": "2024-09-01T11:01:03.214953Z",
     "shell.execute_reply": "2024-09-01T11:01:03.214127Z"
    },
    "papermill": {
     "duration": 0.016627,
     "end_time": "2024-09-01T11:01:03.216792",
     "exception": false,
     "start_time": "2024-09-01T11:01:03.200165",
     "status": "completed"
    },
    "tags": []
   },
   "outputs": [
    {
     "data": {
      "text/plain": [
       "array(['Mythology & Folklore', 'Nature', 'Love'], dtype=object)"
      ]
     },
     "execution_count": 3,
     "metadata": {},
     "output_type": "execute_result"
    }
   ],
   "source": [
    "my_data['type'].unique()"
   ]
  },
  {
   "cell_type": "code",
   "execution_count": 4,
   "id": "b9587f50",
   "metadata": {
    "execution": {
     "iopub.execute_input": "2024-09-01T11:01:03.230834Z",
     "iopub.status.busy": "2024-09-01T11:01:03.230415Z",
     "iopub.status.idle": "2024-09-01T11:01:03.238684Z",
     "shell.execute_reply": "2024-09-01T11:01:03.237822Z"
    },
    "papermill": {
     "duration": 0.017235,
     "end_time": "2024-09-01T11:01:03.240494",
     "exception": false,
     "start_time": "2024-09-01T11:01:03.223259",
     "status": "completed"
    },
    "tags": []
   },
   "outputs": [
    {
     "data": {
      "text/plain": [
       "('Why didst thou promise such a beauteous day,\\r\\nAnd make me travel forth without my cloak,\\r\\nTo let base clouds oertake me in my way,\\r\\nHiding thy bravery in their rotten smoke?\\r\\nTis not enough that through the cloud thou break,\\r\\nTo dry the rain on my storm-beaten face,\\r\\nFor no man well of such a salve can speak\\r\\nThat heals the wound and cures not the disgrace:\\r\\nNor can thy shame give physic to my grief;\\r\\nThough thou repent, yet I have still the loss:\\r\\nThe offenders sorrow lends but weak relief\\r\\nTo him that bears the strong offences cross.\\r\\n   Ah! but those tears are pearl which thy love sheds,\\r\\n   And they are rich and ransom all ill deeds.\\r\\n \\r\\n \\r\\n ',\n",
       " 326)"
      ]
     },
     "execution_count": 4,
     "metadata": {},
     "output_type": "execute_result"
    }
   ],
   "source": [
    "# extract love poems as a list\n",
    "love_poems = my_data.loc[my_data['type'] == 'Love']['content']\n",
    "love_poems = list(love_poems)\n",
    "\n",
    "love_poems[0], len(love_poems)"
   ]
  },
  {
   "cell_type": "code",
   "execution_count": 5,
   "id": "ae9c5f96",
   "metadata": {
    "execution": {
     "iopub.execute_input": "2024-09-01T11:01:03.255034Z",
     "iopub.status.busy": "2024-09-01T11:01:03.254747Z",
     "iopub.status.idle": "2024-09-01T11:01:03.259310Z",
     "shell.execute_reply": "2024-09-01T11:01:03.258420Z"
    },
    "papermill": {
     "duration": 0.014586,
     "end_time": "2024-09-01T11:01:03.261692",
     "exception": false,
     "start_time": "2024-09-01T11:01:03.247106",
     "status": "completed"
    },
    "tags": []
   },
   "outputs": [
    {
     "name": "stdout",
     "output_type": "stream",
     "text": [
      "Joy of my life, full oft for loving you\r\n",
      "    I bless my lot, that was so lucky placed:\r\n",
      "    But then the more your own mishap I rue,\r\n",
      "    That are so much by so mean love embased.\r\n",
      "For had the equal heavens so much you graced\r\n",
      "    In this as in the rest, ye might invent\r\n",
      "    Some heavenly wit, whose verse could have enchased\r\n",
      "    Your glorious name in golden monument.\r\n",
      "But since ye deignd so goodly to relent\r\n",
      "    To me your thrall, in whom is little worth,\r\n",
      "    That little that I am shall all be spent\r\n",
      "    In setting your immortal praises forth;\r\n",
      "Whose lofty argument uplifting me\r\n",
      "    Shall lift you up unto an high degree.\n"
     ]
    }
   ],
   "source": [
    "poems = love_poems\n",
    "print(poems[11])"
   ]
  },
  {
   "cell_type": "markdown",
   "id": "4c857c09",
   "metadata": {
    "papermill": {
     "duration": 0.006481,
     "end_time": "2024-09-01T11:01:03.274838",
     "exception": false,
     "start_time": "2024-09-01T11:01:03.268357",
     "status": "completed"
    },
    "tags": []
   },
   "source": [
    "## Preprocessing the Data"
   ]
  },
  {
   "cell_type": "code",
   "execution_count": 6,
   "id": "9aba254c",
   "metadata": {
    "execution": {
     "iopub.execute_input": "2024-09-01T11:01:03.289265Z",
     "iopub.status.busy": "2024-09-01T11:01:03.289008Z",
     "iopub.status.idle": "2024-09-01T11:01:03.300339Z",
     "shell.execute_reply": "2024-09-01T11:01:03.299549Z"
    },
    "papermill": {
     "duration": 0.020658,
     "end_time": "2024-09-01T11:01:03.302209",
     "exception": false,
     "start_time": "2024-09-01T11:01:03.281551",
     "status": "completed"
    },
    "tags": []
   },
   "outputs": [
    {
     "data": {
      "text/plain": [
       "'joy of my life, full oft for loving you i bless my lot, that was so lucky placed: but then the more your own mishap i rue, that are so much by so mean love embased. for had the equal heavens so much you graced in this as in the rest, ye might invent some heavenly wit, whose verse could have enchased your glorious name in golden monument. but since ye deignd so goodly to relent to me your thrall, in whom is little worth, that little that i am shall all be spent in setting your immortal praises forth; whose lofty argument uplifting me shall lift you up unto an high degree.'"
      ]
     },
     "execution_count": 6,
     "metadata": {},
     "output_type": "execute_result"
    }
   ],
   "source": [
    "def preprocess_text(text):\n",
    "#     text = re.sub(r\"[^\\w\\s]\", \"\", text).lower()\n",
    "    text = ' '.join(text.split()).lower()\n",
    "    return text\n",
    "\n",
    "cleaned_poems = [preprocess_text(poem) for poem in poems]\n",
    "cleaned_poems[11]"
   ]
  },
  {
   "cell_type": "code",
   "execution_count": 7,
   "id": "ad937459",
   "metadata": {
    "execution": {
     "iopub.execute_input": "2024-09-01T11:01:03.316887Z",
     "iopub.status.busy": "2024-09-01T11:01:03.316632Z",
     "iopub.status.idle": "2024-09-01T11:01:03.367828Z",
     "shell.execute_reply": "2024-09-01T11:01:03.366993Z"
    },
    "papermill": {
     "duration": 0.060707,
     "end_time": "2024-09-01T11:01:03.369746",
     "exception": false,
     "start_time": "2024-09-01T11:01:03.309039",
     "status": "completed"
    },
    "tags": []
   },
   "outputs": [
    {
     "data": {
      "text/plain": [
       "7231"
      ]
     },
     "execution_count": 7,
     "metadata": {},
     "output_type": "execute_result"
    }
   ],
   "source": [
    "# Create vocabulary using word-level Tokenization\n",
    "tokenizer = Tokenizer()\n",
    "tokenizer.fit_on_texts(cleaned_poems)\n",
    "vocab_size = len(tokenizer.word_index) + 1\n",
    "\n",
    "vocab_size"
   ]
  },
  {
   "cell_type": "markdown",
   "id": "0f554d26",
   "metadata": {
    "papermill": {
     "duration": 0.00683,
     "end_time": "2024-09-01T11:01:03.383539",
     "exception": false,
     "start_time": "2024-09-01T11:01:03.376709",
     "status": "completed"
    },
    "tags": []
   },
   "source": [
    "Initially, I am directly converting the poems into sequences.\n",
    "For each, sequence\n",
    "\n",
    "predictor = complete poem\n",
    "\n",
    "label = start from 2nd word  \n",
    "\n",
    "Using padding both are made same, but label is one word ahead.\n",
    "\n",
    "Now, I will try to use the way I used in LSTM notebook. Create multiple sequences from one poem, label would be single word (next word in the poem, not complete poem from next word like this)."
   ]
  },
  {
   "cell_type": "code",
   "execution_count": 8,
   "id": "6d70ec22",
   "metadata": {
    "execution": {
     "iopub.execute_input": "2024-09-01T11:01:03.398730Z",
     "iopub.status.busy": "2024-09-01T11:01:03.398204Z",
     "iopub.status.idle": "2024-09-01T11:01:03.758265Z",
     "shell.execute_reply": "2024-09-01T11:01:03.757389Z"
    },
    "papermill": {
     "duration": 0.369937,
     "end_time": "2024-09-01T11:01:03.760441",
     "exception": false,
     "start_time": "2024-09-01T11:01:03.390504",
     "status": "completed"
    },
    "tags": []
   },
   "outputs": [
    {
     "data": {
      "text/plain": [
       "[[141, 1000],\n",
       " [141, 1000, 28],\n",
       " [141, 1000, 28, 865],\n",
       " [141, 1000, 28, 865, 63],\n",
       " [141, 1000, 28, 865, 63, 9],\n",
       " [141, 1000, 28, 865, 63, 9, 676],\n",
       " [141, 1000, 28, 865, 63, 9, 676, 112],\n",
       " [141, 1000, 28, 865, 63, 9, 676, 112, 1],\n",
       " [141, 1000, 28, 865, 63, 9, 676, 112, 1, 76],\n",
       " [141, 1000, 28, 865, 63, 9, 676, 112, 1, 76, 15]]"
      ]
     },
     "execution_count": 8,
     "metadata": {},
     "output_type": "execute_result"
    }
   ],
   "source": [
    "# Create input sequences\n",
    "input_sequences = []\n",
    "\n",
    "for poem in cleaned_poems:\n",
    "    # numerical representation of poem\n",
    "    token_list = tokenizer.texts_to_sequences([poem])[0]\n",
    "    \n",
    "    for i in range(1, len(token_list)):\n",
    "        n_gram_sequence = token_list[:i+1]\n",
    "        input_sequences.append(n_gram_sequence)\n",
    "\n",
    "input_sequences[0:10]"
   ]
  },
  {
   "cell_type": "code",
   "execution_count": 9,
   "id": "16e2d610",
   "metadata": {
    "execution": {
     "iopub.execute_input": "2024-09-01T11:01:03.776874Z",
     "iopub.status.busy": "2024-09-01T11:01:03.775997Z",
     "iopub.status.idle": "2024-09-01T11:01:04.723468Z",
     "shell.execute_reply": "2024-09-01T11:01:04.722503Z"
    },
    "papermill": {
     "duration": 0.957758,
     "end_time": "2024-09-01T11:01:04.725651",
     "exception": false,
     "start_time": "2024-09-01T11:01:03.767893",
     "status": "completed"
    },
    "tags": []
   },
   "outputs": [
    {
     "name": "stdout",
     "output_type": "stream",
     "text": [
      "Longest sequence is:  2229\n"
     ]
    },
    {
     "data": {
      "text/plain": [
       "array([[   0,    0,    0, ...,    0,  141, 1000],\n",
       "       [   0,    0,    0, ...,  141, 1000,   28],\n",
       "       [   0,    0,    0, ..., 1000,   28,  865]], dtype=int32)"
      ]
     },
     "execution_count": 9,
     "metadata": {},
     "output_type": "execute_result"
    }
   ],
   "source": [
    "# Pad sequences\n",
    "max_seq_length = max([len(seq) for seq in input_sequences])\n",
    "print(\"Longest sequence is: \", max_seq_length)\n",
    "\n",
    "padded_sequences = np.array(pad_sequences(input_sequences, maxlen=max_seq_length, padding='pre'))\n",
    "\n",
    "padded_sequences[0:3]"
   ]
  },
  {
   "cell_type": "code",
   "execution_count": 10,
   "id": "45b17a66",
   "metadata": {
    "execution": {
     "iopub.execute_input": "2024-09-01T11:01:04.742507Z",
     "iopub.status.busy": "2024-09-01T11:01:04.742187Z",
     "iopub.status.idle": "2024-09-01T11:01:04.748972Z",
     "shell.execute_reply": "2024-09-01T11:01:04.748132Z"
    },
    "papermill": {
     "duration": 0.01712,
     "end_time": "2024-09-01T11:01:04.750963",
     "exception": false,
     "start_time": "2024-09-01T11:01:04.733843",
     "status": "completed"
    },
    "tags": []
   },
   "outputs": [
    {
     "data": {
      "text/plain": [
       "(array([  0,   0,   0, ...,   0,   0, 141], dtype=int32),\n",
       " array([   0,    0,    0, ...,    0,  141, 1000], dtype=int32))"
      ]
     },
     "execution_count": 10,
     "metadata": {},
     "output_type": "execute_result"
    }
   ],
   "source": [
    "# Create predictors and label\n",
    "X, y = padded_sequences[:, :-1], padded_sequences[:, 1:]\n",
    "\n",
    "\n",
    "X[0], y[0]\n",
    "# Convert y to categorical\n",
    "# y = tf.keras.utils.to_categorical(y, num_classes=vocab_size)"
   ]
  },
  {
   "cell_type": "code",
   "execution_count": 11,
   "id": "dc5ebd2e",
   "metadata": {
    "execution": {
     "iopub.execute_input": "2024-09-01T11:01:04.767272Z",
     "iopub.status.busy": "2024-09-01T11:01:04.766985Z",
     "iopub.status.idle": "2024-09-01T11:01:04.772460Z",
     "shell.execute_reply": "2024-09-01T11:01:04.771612Z"
    },
    "papermill": {
     "duration": 0.015547,
     "end_time": "2024-09-01T11:01:04.774250",
     "exception": false,
     "start_time": "2024-09-01T11:01:04.758703",
     "status": "completed"
    },
    "tags": []
   },
   "outputs": [
    {
     "data": {
      "text/plain": [
       "(2228,)"
      ]
     },
     "execution_count": 11,
     "metadata": {},
     "output_type": "execute_result"
    }
   ],
   "source": [
    "X[5].shape"
   ]
  },
  {
   "cell_type": "markdown",
   "id": "9d7eca54",
   "metadata": {
    "papermill": {
     "duration": 0.007378,
     "end_time": "2024-09-01T11:01:04.789297",
     "exception": false,
     "start_time": "2024-09-01T11:01:04.781919",
     "status": "completed"
    },
    "tags": []
   },
   "source": [
    "## Create Model\n",
    "\n",
    "Transformers architecture"
   ]
  },
  {
   "cell_type": "code",
   "execution_count": 12,
   "id": "6e92148b",
   "metadata": {
    "execution": {
     "iopub.execute_input": "2024-09-01T11:01:04.805539Z",
     "iopub.status.busy": "2024-09-01T11:01:04.805245Z",
     "iopub.status.idle": "2024-09-01T11:01:04.813194Z",
     "shell.execute_reply": "2024-09-01T11:01:04.812369Z"
    },
    "papermill": {
     "duration": 0.018152,
     "end_time": "2024-09-01T11:01:04.814974",
     "exception": false,
     "start_time": "2024-09-01T11:01:04.796822",
     "status": "completed"
    },
    "tags": []
   },
   "outputs": [],
   "source": [
    "class TransformerBlock(tf.keras.layers.Layer):\n",
    "    def __init__(self, embed_dim, num_heads, ff_dim, rate=0.1):\n",
    "        super(TransformerBlock, self).__init__()\n",
    "        self.att = MultiHeadAttention(num_heads=num_heads, key_dim=embed_dim)\n",
    "        self.ffn = tf.keras.Sequential([Dense(ff_dim, activation=\"relu\"), Dense(embed_dim), ])\n",
    "        self.layernorm1 = LayerNormalization(epsilon=1e-6)\n",
    "        self.layernorm2 = LayerNormalization(epsilon=1e-6)\n",
    "        self.dropout1 = tf.keras.layers.Dropout(rate)\n",
    "        self.dropout2 = tf.keras.layers.Dropout(rate)\n",
    "        \n",
    "    def call(self, inputs, training):\n",
    "        attn_output = self.att(inputs, inputs)\n",
    "        attn_output = self.dropout1(attn_output, training=training)\n",
    "        out1 = self.layernorm1(inputs + attn_output)\n",
    "        ffn_output = self.ffn(out1)\n",
    "        ffn_output = self.dropout2(ffn_output, training=training)\n",
    "        return self.layernorm2(out1 + ffn_output)  "
   ]
  },
  {
   "cell_type": "code",
   "execution_count": 13,
   "id": "6877bebd",
   "metadata": {
    "execution": {
     "iopub.execute_input": "2024-09-01T11:01:04.831285Z",
     "iopub.status.busy": "2024-09-01T11:01:04.830999Z",
     "iopub.status.idle": "2024-09-01T11:01:04.836937Z",
     "shell.execute_reply": "2024-09-01T11:01:04.836099Z"
    },
    "papermill": {
     "duration": 0.016077,
     "end_time": "2024-09-01T11:01:04.838849",
     "exception": false,
     "start_time": "2024-09-01T11:01:04.822772",
     "status": "completed"
    },
    "tags": []
   },
   "outputs": [],
   "source": [
    "# Model architecture\n",
    "class PoemGenerator(tf.keras.Model):\n",
    "    def __init__(self, vocab_size, embed_dim, num_heads, ff_dim):\n",
    "        super(PoemGenerator, self).__init__()\n",
    "        self.embedding = Embedding(vocab_size, embed_dim)\n",
    "        self.transformer_block = TransformerBlock(embed_dim, num_heads, ff_dim)\n",
    "        self.final_layer = Dense(vocab_size)\n",
    "    \n",
    "    def call(self, inputs, training=False):\n",
    "        x = self.embedding(inputs)\n",
    "        x = self.transformer_block(x, training=training)\n",
    "        return self.final_layer(x)"
   ]
  },
  {
   "cell_type": "code",
   "execution_count": 14,
   "id": "1d2e730c",
   "metadata": {
    "execution": {
     "iopub.execute_input": "2024-09-01T11:01:04.854887Z",
     "iopub.status.busy": "2024-09-01T11:01:04.854626Z",
     "iopub.status.idle": "2024-09-01T11:01:05.547802Z",
     "shell.execute_reply": "2024-09-01T11:01:05.547000Z"
    },
    "papermill": {
     "duration": 0.703592,
     "end_time": "2024-09-01T11:01:05.549897",
     "exception": false,
     "start_time": "2024-09-01T11:01:04.846305",
     "status": "completed"
    },
    "tags": []
   },
   "outputs": [],
   "source": [
    "# Compile the model\n",
    "embedding_dim = 64\n",
    "\n",
    "model = PoemGenerator(vocab_size, embed_dim=embedding_dim, num_heads=2, ff_dim=32)\n",
    "model.compile(optimizer='adam', loss=tf.keras.losses.SparseCategoricalCrossentropy(from_logits=True))"
   ]
  },
  {
   "cell_type": "markdown",
   "id": "cd3c97ba",
   "metadata": {
    "papermill": {
     "duration": 0.007389,
     "end_time": "2024-09-01T11:01:05.565234",
     "exception": false,
     "start_time": "2024-09-01T11:01:05.557845",
     "status": "completed"
    },
    "tags": []
   },
   "source": [
    "## Training"
   ]
  },
  {
   "cell_type": "code",
   "execution_count": 15,
   "id": "c7acba8a",
   "metadata": {
    "execution": {
     "iopub.execute_input": "2024-09-01T11:01:05.581670Z",
     "iopub.status.busy": "2024-09-01T11:01:05.581326Z",
     "iopub.status.idle": "2024-09-01T13:48:06.647019Z",
     "shell.execute_reply": "2024-09-01T13:48:06.645881Z"
    },
    "papermill": {
     "duration": 10023.539418,
     "end_time": "2024-09-01T13:48:09.112281",
     "exception": false,
     "start_time": "2024-09-01T11:01:05.572863",
     "status": "completed"
    },
    "tags": []
   },
   "outputs": [
    {
     "name": "stdout",
     "output_type": "stream",
     "text": [
      "Epoch 1/50\n"
     ]
    },
    {
     "name": "stderr",
     "output_type": "stream",
     "text": [
      "WARNING: All log messages before absl::InitializeLog() is called are written to STDERR\n",
      "I0000 00:00:1725188469.467115      66 service.cc:145] XLA service 0x7ec154011ea0 initialized for platform CUDA (this does not guarantee that XLA will be used). Devices:\n",
      "I0000 00:00:1725188469.467160      66 service.cc:153]   StreamExecutor device (0): Tesla P100-PCIE-16GB, Compute Capability 6.0\n",
      "W0000 00:00:1725188469.838625      66 assert_op.cc:38] Ignoring Assert operator compile_loss/sparse_categorical_crossentropy/SparseSoftmaxCrossEntropyWithLogits/assert_equal_1/Assert/Assert\n",
      "I0000 00:00:1725188485.472408      66 device_compiler.h:188] Compiled cluster using XLA!  This line is logged at most once for the lifetime of the process.\n"
     ]
    },
    {
     "name": "stdout",
     "output_type": "stream",
     "text": [
      "\u001b[1m603/604\u001b[0m \u001b[32m━━━━━━━━━━━━━━━━━━━\u001b[0m\u001b[37m━\u001b[0m \u001b[1m0s\u001b[0m 302ms/step - loss: 2.0711"
     ]
    },
    {
     "name": "stderr",
     "output_type": "stream",
     "text": [
      "W0000 00:00:1725188667.900800      65 assert_op.cc:38] Ignoring Assert operator compile_loss/sparse_categorical_crossentropy/SparseSoftmaxCrossEntropyWithLogits/assert_equal_1/Assert/Assert\n"
     ]
    },
    {
     "name": "stdout",
     "output_type": "stream",
     "text": [
      "\u001b[1m604/604\u001b[0m \u001b[32m━━━━━━━━━━━━━━━━━━━━\u001b[0m\u001b[37m\u001b[0m \u001b[1m235s\u001b[0m 357ms/step - loss: 2.0669 - val_loss: 0.7483\n",
      "Epoch 2/50\n",
      "\u001b[1m604/604\u001b[0m \u001b[32m━━━━━━━━━━━━━━━━━━━━\u001b[0m\u001b[37m\u001b[0m \u001b[1m199s\u001b[0m 330ms/step - loss: 0.2528 - val_loss: 0.7900\n",
      "Epoch 3/50\n",
      "\u001b[1m604/604\u001b[0m \u001b[32m━━━━━━━━━━━━━━━━━━━━\u001b[0m\u001b[37m\u001b[0m \u001b[1m199s\u001b[0m 330ms/step - loss: 0.2114 - val_loss: 0.8272\n",
      "Epoch 4/50\n",
      "\u001b[1m604/604\u001b[0m \u001b[32m━━━━━━━━━━━━━━━━━━━━\u001b[0m\u001b[37m\u001b[0m \u001b[1m200s\u001b[0m 330ms/step - loss: 0.1863 - val_loss: 0.8696\n",
      "Epoch 5/50\n",
      "\u001b[1m604/604\u001b[0m \u001b[32m━━━━━━━━━━━━━━━━━━━━\u001b[0m\u001b[37m\u001b[0m \u001b[1m200s\u001b[0m 330ms/step - loss: 0.1685 - val_loss: 0.9138\n",
      "Epoch 6/50\n",
      "\u001b[1m604/604\u001b[0m \u001b[32m━━━━━━━━━━━━━━━━━━━━\u001b[0m\u001b[37m\u001b[0m \u001b[1m199s\u001b[0m 330ms/step - loss: 0.1546 - val_loss: 0.9589\n",
      "Epoch 7/50\n",
      "\u001b[1m604/604\u001b[0m \u001b[32m━━━━━━━━━━━━━━━━━━━━\u001b[0m\u001b[37m\u001b[0m \u001b[1m200s\u001b[0m 330ms/step - loss: 0.1436 - val_loss: 1.0091\n",
      "Epoch 8/50\n",
      "\u001b[1m604/604\u001b[0m \u001b[32m━━━━━━━━━━━━━━━━━━━━\u001b[0m\u001b[37m\u001b[0m \u001b[1m200s\u001b[0m 330ms/step - loss: 0.1332 - val_loss: 1.0569\n",
      "Epoch 9/50\n",
      "\u001b[1m604/604\u001b[0m \u001b[32m━━━━━━━━━━━━━━━━━━━━\u001b[0m\u001b[37m\u001b[0m \u001b[1m200s\u001b[0m 331ms/step - loss: 0.1274 - val_loss: 1.1029\n",
      "Epoch 10/50\n",
      "\u001b[1m604/604\u001b[0m \u001b[32m━━━━━━━━━━━━━━━━━━━━\u001b[0m\u001b[37m\u001b[0m \u001b[1m200s\u001b[0m 331ms/step - loss: 0.1223 - val_loss: 1.1524\n",
      "Epoch 11/50\n",
      "\u001b[1m604/604\u001b[0m \u001b[32m━━━━━━━━━━━━━━━━━━━━\u001b[0m\u001b[37m\u001b[0m \u001b[1m200s\u001b[0m 330ms/step - loss: 0.1185 - val_loss: 1.2020\n",
      "Epoch 12/50\n",
      "\u001b[1m604/604\u001b[0m \u001b[32m━━━━━━━━━━━━━━━━━━━━\u001b[0m\u001b[37m\u001b[0m \u001b[1m200s\u001b[0m 331ms/step - loss: 0.1158 - val_loss: 1.2597\n",
      "Epoch 13/50\n",
      "\u001b[1m604/604\u001b[0m \u001b[32m━━━━━━━━━━━━━━━━━━━━\u001b[0m\u001b[37m\u001b[0m \u001b[1m200s\u001b[0m 331ms/step - loss: 0.1103 - val_loss: 1.3193\n",
      "Epoch 14/50\n",
      "\u001b[1m604/604\u001b[0m \u001b[32m━━━━━━━━━━━━━━━━━━━━\u001b[0m\u001b[37m\u001b[0m \u001b[1m200s\u001b[0m 331ms/step - loss: 0.1072 - val_loss: 1.3755\n",
      "Epoch 15/50\n",
      "\u001b[1m604/604\u001b[0m \u001b[32m━━━━━━━━━━━━━━━━━━━━\u001b[0m\u001b[37m\u001b[0m \u001b[1m202s\u001b[0m 331ms/step - loss: 0.1026 - val_loss: 1.4210\n",
      "Epoch 16/50\n",
      "\u001b[1m604/604\u001b[0m \u001b[32m━━━━━━━━━━━━━━━━━━━━\u001b[0m\u001b[37m\u001b[0m \u001b[1m200s\u001b[0m 331ms/step - loss: 0.0986 - val_loss: 1.4677\n",
      "Epoch 17/50\n",
      "\u001b[1m604/604\u001b[0m \u001b[32m━━━━━━━━━━━━━━━━━━━━\u001b[0m\u001b[37m\u001b[0m \u001b[1m200s\u001b[0m 331ms/step - loss: 0.0946 - val_loss: 1.5029\n",
      "Epoch 18/50\n",
      "\u001b[1m604/604\u001b[0m \u001b[32m━━━━━━━━━━━━━━━━━━━━\u001b[0m\u001b[37m\u001b[0m \u001b[1m200s\u001b[0m 331ms/step - loss: 0.0968 - val_loss: 1.5393\n",
      "Epoch 19/50\n",
      "\u001b[1m604/604\u001b[0m \u001b[32m━━━━━━━━━━━━━━━━━━━━\u001b[0m\u001b[37m\u001b[0m \u001b[1m200s\u001b[0m 331ms/step - loss: 0.0948 - val_loss: 1.5622\n",
      "Epoch 20/50\n",
      "\u001b[1m604/604\u001b[0m \u001b[32m━━━━━━━━━━━━━━━━━━━━\u001b[0m\u001b[37m\u001b[0m \u001b[1m202s\u001b[0m 331ms/step - loss: 0.0948 - val_loss: 1.5916\n",
      "Epoch 21/50\n",
      "\u001b[1m604/604\u001b[0m \u001b[32m━━━━━━━━━━━━━━━━━━━━\u001b[0m\u001b[37m\u001b[0m \u001b[1m200s\u001b[0m 331ms/step - loss: 0.0919 - val_loss: 1.6072\n",
      "Epoch 22/50\n",
      "\u001b[1m604/604\u001b[0m \u001b[32m━━━━━━━━━━━━━━━━━━━━\u001b[0m\u001b[37m\u001b[0m \u001b[1m200s\u001b[0m 330ms/step - loss: 0.0894 - val_loss: 1.6309\n",
      "Epoch 23/50\n",
      "\u001b[1m604/604\u001b[0m \u001b[32m━━━━━━━━━━━━━━━━━━━━\u001b[0m\u001b[37m\u001b[0m \u001b[1m200s\u001b[0m 330ms/step - loss: 0.0901 - val_loss: 1.6424\n",
      "Epoch 24/50\n",
      "\u001b[1m604/604\u001b[0m \u001b[32m━━━━━━━━━━━━━━━━━━━━\u001b[0m\u001b[37m\u001b[0m \u001b[1m200s\u001b[0m 330ms/step - loss: 0.0889 - val_loss: 1.6553\n",
      "Epoch 25/50\n",
      "\u001b[1m604/604\u001b[0m \u001b[32m━━━━━━━━━━━━━━━━━━━━\u001b[0m\u001b[37m\u001b[0m \u001b[1m200s\u001b[0m 330ms/step - loss: 0.0924 - val_loss: 1.6680\n",
      "Epoch 26/50\n",
      "\u001b[1m604/604\u001b[0m \u001b[32m━━━━━━━━━━━━━━━━━━━━\u001b[0m\u001b[37m\u001b[0m \u001b[1m200s\u001b[0m 330ms/step - loss: 0.0897 - val_loss: 1.6773\n",
      "Epoch 27/50\n",
      "\u001b[1m604/604\u001b[0m \u001b[32m━━━━━━━━━━━━━━━━━━━━\u001b[0m\u001b[37m\u001b[0m \u001b[1m200s\u001b[0m 330ms/step - loss: 0.0883 - val_loss: 1.6867\n",
      "Epoch 28/50\n",
      "\u001b[1m604/604\u001b[0m \u001b[32m━━━━━━━━━━━━━━━━━━━━\u001b[0m\u001b[37m\u001b[0m \u001b[1m200s\u001b[0m 330ms/step - loss: 0.0855 - val_loss: 1.6952\n",
      "Epoch 29/50\n",
      "\u001b[1m604/604\u001b[0m \u001b[32m━━━━━━━━━━━━━━━━━━━━\u001b[0m\u001b[37m\u001b[0m \u001b[1m200s\u001b[0m 331ms/step - loss: 0.0851 - val_loss: 1.7006\n",
      "Epoch 30/50\n",
      "\u001b[1m604/604\u001b[0m \u001b[32m━━━━━━━━━━━━━━━━━━━━\u001b[0m\u001b[37m\u001b[0m \u001b[1m200s\u001b[0m 331ms/step - loss: 0.0874 - val_loss: 1.7083\n",
      "Epoch 31/50\n",
      "\u001b[1m604/604\u001b[0m \u001b[32m━━━━━━━━━━━━━━━━━━━━\u001b[0m\u001b[37m\u001b[0m \u001b[1m200s\u001b[0m 330ms/step - loss: 0.0863 - val_loss: 1.7107\n",
      "Epoch 32/50\n",
      "\u001b[1m604/604\u001b[0m \u001b[32m━━━━━━━━━━━━━━━━━━━━\u001b[0m\u001b[37m\u001b[0m \u001b[1m200s\u001b[0m 330ms/step - loss: 0.0866 - val_loss: 1.7160\n",
      "Epoch 33/50\n",
      "\u001b[1m604/604\u001b[0m \u001b[32m━━━━━━━━━━━━━━━━━━━━\u001b[0m\u001b[37m\u001b[0m \u001b[1m200s\u001b[0m 330ms/step - loss: 0.0836 - val_loss: 1.7197\n",
      "Epoch 34/50\n",
      "\u001b[1m604/604\u001b[0m \u001b[32m━━━━━━━━━━━━━━━━━━━━\u001b[0m\u001b[37m\u001b[0m \u001b[1m200s\u001b[0m 330ms/step - loss: 0.0867 - val_loss: 1.7258\n",
      "Epoch 35/50\n",
      "\u001b[1m604/604\u001b[0m \u001b[32m━━━━━━━━━━━━━━━━━━━━\u001b[0m\u001b[37m\u001b[0m \u001b[1m200s\u001b[0m 330ms/step - loss: 0.0838 - val_loss: 1.7323\n",
      "Epoch 36/50\n",
      "\u001b[1m604/604\u001b[0m \u001b[32m━━━━━━━━━━━━━━━━━━━━\u001b[0m\u001b[37m\u001b[0m \u001b[1m200s\u001b[0m 330ms/step - loss: 0.0867 - val_loss: 1.7348\n",
      "Epoch 37/50\n",
      "\u001b[1m604/604\u001b[0m \u001b[32m━━━━━━━━━━━━━━━━━━━━\u001b[0m\u001b[37m\u001b[0m \u001b[1m200s\u001b[0m 331ms/step - loss: 0.0855 - val_loss: 1.7377\n",
      "Epoch 38/50\n",
      "\u001b[1m604/604\u001b[0m \u001b[32m━━━━━━━━━━━━━━━━━━━━\u001b[0m\u001b[37m\u001b[0m \u001b[1m200s\u001b[0m 331ms/step - loss: 0.0856 - val_loss: 1.7362\n",
      "Epoch 39/50\n",
      "\u001b[1m604/604\u001b[0m \u001b[32m━━━━━━━━━━━━━━━━━━━━\u001b[0m\u001b[37m\u001b[0m \u001b[1m200s\u001b[0m 331ms/step - loss: 0.0845 - val_loss: 1.7409\n",
      "Epoch 40/50\n",
      "\u001b[1m604/604\u001b[0m \u001b[32m━━━━━━━━━━━━━━━━━━━━\u001b[0m\u001b[37m\u001b[0m \u001b[1m200s\u001b[0m 331ms/step - loss: 0.0835 - val_loss: 1.7425\n",
      "Epoch 41/50\n",
      "\u001b[1m604/604\u001b[0m \u001b[32m━━━━━━━━━━━━━━━━━━━━\u001b[0m\u001b[37m\u001b[0m \u001b[1m200s\u001b[0m 331ms/step - loss: 0.0830 - val_loss: 1.7434\n",
      "Epoch 42/50\n",
      "\u001b[1m604/604\u001b[0m \u001b[32m━━━━━━━━━━━━━━━━━━━━\u001b[0m\u001b[37m\u001b[0m \u001b[1m200s\u001b[0m 330ms/step - loss: 0.0840 - val_loss: 1.7464\n",
      "Epoch 43/50\n",
      "\u001b[1m604/604\u001b[0m \u001b[32m━━━━━━━━━━━━━━━━━━━━\u001b[0m\u001b[37m\u001b[0m \u001b[1m199s\u001b[0m 330ms/step - loss: 0.0839 - val_loss: 1.7497\n",
      "Epoch 44/50\n",
      "\u001b[1m604/604\u001b[0m \u001b[32m━━━━━━━━━━━━━━━━━━━━\u001b[0m\u001b[37m\u001b[0m \u001b[1m200s\u001b[0m 330ms/step - loss: 0.0842 - val_loss: 1.7532\n",
      "Epoch 45/50\n",
      "\u001b[1m604/604\u001b[0m \u001b[32m━━━━━━━━━━━━━━━━━━━━\u001b[0m\u001b[37m\u001b[0m \u001b[1m199s\u001b[0m 330ms/step - loss: 0.0831 - val_loss: 1.7543\n",
      "Epoch 46/50\n",
      "\u001b[1m604/604\u001b[0m \u001b[32m━━━━━━━━━━━━━━━━━━━━\u001b[0m\u001b[37m\u001b[0m \u001b[1m200s\u001b[0m 330ms/step - loss: 0.0838 - val_loss: 1.7601\n",
      "Epoch 47/50\n",
      "\u001b[1m604/604\u001b[0m \u001b[32m━━━━━━━━━━━━━━━━━━━━\u001b[0m\u001b[37m\u001b[0m \u001b[1m200s\u001b[0m 330ms/step - loss: 0.0834 - val_loss: 1.7569\n",
      "Epoch 48/50\n",
      "\u001b[1m604/604\u001b[0m \u001b[32m━━━━━━━━━━━━━━━━━━━━\u001b[0m\u001b[37m\u001b[0m \u001b[1m200s\u001b[0m 330ms/step - loss: 0.0843 - val_loss: 1.7665\n",
      "Epoch 49/50\n",
      "\u001b[1m604/604\u001b[0m \u001b[32m━━━━━━━━━━━━━━━━━━━━\u001b[0m\u001b[37m\u001b[0m \u001b[1m200s\u001b[0m 330ms/step - loss: 0.0837 - val_loss: 1.7619\n",
      "Epoch 50/50\n",
      "\u001b[1m604/604\u001b[0m \u001b[32m━━━━━━━━━━━━━━━━━━━━\u001b[0m\u001b[37m\u001b[0m \u001b[1m200s\u001b[0m 330ms/step - loss: 0.0844 - val_loss: 1.7659\n"
     ]
    }
   ],
   "source": [
    "history = model.fit(X, y, epochs=50, batch_size=64, validation_split=0.2)"
   ]
  },
  {
   "cell_type": "markdown",
   "id": "51a62fd8",
   "metadata": {
    "papermill": {
     "duration": 2.442751,
     "end_time": "2024-09-01T13:48:14.063032",
     "exception": false,
     "start_time": "2024-09-01T13:48:11.620281",
     "status": "completed"
    },
    "tags": []
   },
   "source": [
    "## Generate Poem"
   ]
  },
  {
   "cell_type": "code",
   "execution_count": 16,
   "id": "4b44b66d",
   "metadata": {
    "execution": {
     "iopub.execute_input": "2024-09-01T13:48:19.056417Z",
     "iopub.status.busy": "2024-09-01T13:48:19.055559Z",
     "iopub.status.idle": "2024-09-01T13:51:28.201937Z",
     "shell.execute_reply": "2024-09-01T13:51:28.200953Z"
    },
    "papermill": {
     "duration": 194.075432,
     "end_time": "2024-09-01T13:51:30.673252",
     "exception": false,
     "start_time": "2024-09-01T13:48:16.597820",
     "status": "completed"
    },
    "tags": []
   },
   "outputs": [
    {
     "name": "stdout",
     "output_type": "stream",
     "text": [
      "love love love love that on love that sickness brags itself in her name so that these worlds false bonds in\n"
     ]
    }
   ],
   "source": [
    "def generate_poem(model, start_string, num_generate=20, temperature=1.0):\n",
    "    input_eval = tokenizer.texts_to_sequences([start_string])[0]\n",
    "    input_eval = pad_sequences([input_eval], maxlen=max_seq_length-1, padding='post')\n",
    "    text_generated = []\n",
    "    \n",
    "    for _ in range(num_generate):\n",
    "        predicted_id = 0\n",
    "        while predicted_id == 0:   \n",
    "            predictions = model(input_eval, training=False)\n",
    "            predictions = tf.squeeze(predictions, 0)\n",
    "            predictions = predictions / temperature\n",
    "            predicted_id = tf.random.categorical(predictions, num_samples=1)[-1, 0].numpy()\n",
    "        \n",
    "        text_generated.append(tokenizer.index_word[predicted_id])\n",
    "        \n",
    "        input_eval = tf.concat([input_eval[:, 1:], [[predicted_id]]], axis=-1)\n",
    "        \n",
    "    return (start_string + ' ' + ' '.join(text_generated))\n",
    "\n",
    "start_string = \"love is\"\n",
    "print(generate_poem(model, start_string=\"love\"))"
   ]
  },
  {
   "cell_type": "code",
   "execution_count": null,
   "id": "e75e6a03",
   "metadata": {
    "papermill": {
     "duration": 2.541785,
     "end_time": "2024-09-01T13:51:35.682976",
     "exception": false,
     "start_time": "2024-09-01T13:51:33.141191",
     "status": "completed"
    },
    "tags": []
   },
   "outputs": [],
   "source": []
  },
  {
   "cell_type": "code",
   "execution_count": null,
   "id": "7790f0c4",
   "metadata": {
    "papermill": {
     "duration": 2.474839,
     "end_time": "2024-09-01T13:51:40.616768",
     "exception": false,
     "start_time": "2024-09-01T13:51:38.141929",
     "status": "completed"
    },
    "tags": []
   },
   "outputs": [],
   "source": []
  }
 ],
 "metadata": {
  "kaggle": {
   "accelerator": "gpu",
   "dataSources": [
    {
     "datasetId": 1480,
     "sourceId": 2650,
     "sourceType": "datasetVersion"
    }
   ],
   "dockerImageVersionId": 30761,
   "isGpuEnabled": true,
   "isInternetEnabled": true,
   "language": "python",
   "sourceType": "notebook"
  },
  "kernelspec": {
   "display_name": "Python 3",
   "language": "python",
   "name": "python3"
  },
  "language_info": {
   "codemirror_mode": {
    "name": "ipython",
    "version": 3
   },
   "file_extension": ".py",
   "mimetype": "text/x-python",
   "name": "python",
   "nbconvert_exporter": "python",
   "pygments_lexer": "ipython3",
   "version": "3.10.14"
  },
  "papermill": {
   "default_parameters": {},
   "duration": 10258.18732,
   "end_time": "2024-09-01T13:51:45.929574",
   "environment_variables": {},
   "exception": null,
   "input_path": "__notebook__.ipynb",
   "output_path": "__notebook__.ipynb",
   "parameters": {},
   "start_time": "2024-09-01T11:00:47.742254",
   "version": "2.6.0"
  }
 },
 "nbformat": 4,
 "nbformat_minor": 5
}
